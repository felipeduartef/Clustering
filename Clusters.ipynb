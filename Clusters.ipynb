{
 "cells": [
  {
   "cell_type": "markdown",
   "metadata": {},
   "source": [
    "#                                                   Algoritmos de Agrupamiento\n"
   ]
  },
  {
   "cell_type": "code",
   "execution_count": 303,
   "metadata": {},
   "outputs": [],
   "source": [
    "import numpy as np\n",
    "import pandas as pd\n",
    "import matplotlib.pyplot as plt\n",
    "from sklearn.cluster import KMeans\n",
    "from math import dist\n",
    "import mpl_toolkits.mplot3d"
   ]
  },
  {
   "cell_type": "code",
   "execution_count": 304,
   "metadata": {},
   "outputs": [
    {
     "data": {
      "image/png": "[encoded data removed]",
      "text/plain": [
       "<Figure size 432x288 with 1 Axes>"
      ]
     },
     "metadata": {
      "needs_background": "light"
     },
     "output_type": "display_data"
    }
   ],
   "source": [
    "iris = pd.read_excel(\"Datos IRIS.xlsx\", index_col=None, header=None)\n",
    "iris.plot(2, 3, kind=\"scatter\", xlabel=\"X2\", ylabel=\"X3\")\n",
    "plt.title('Descriptores seleccionados')\n",
    "plt.grid()\n",
    "plt.show()"
   ]
  },
  {
   "cell_type": "markdown",
   "metadata": {},
   "source": [
    "## División de los datos"
   ]
  },
  {
   "cell_type": "code",
   "execution_count": 305,
   "metadata": {},
   "outputs": [],
   "source": [
    "# División de dataset\n",
    "\n",
    "df_T = iris.iloc[0:35] # Datos de Entrenamiento\n",
    "df_T = df_T.append(iris.iloc[50:85])\n",
    "df_T = df_T.append(iris.iloc[100:135])\n",
    "\n",
    "#print(\"Entrenamiento \\n\", df_T)\n",
    "\n",
    "\n",
    "df_P = iris.iloc[35:50]          #Datos de prueba\n",
    "df_P = df_P.append(iris.iloc[85:100])\n",
    "df_P = df_P.append(iris.iloc[135:150])\n",
    "\n",
    "#print(\"Prueba \\n\", df_P)"
   ]
  },
  {
   "cell_type": "markdown",
   "metadata": {},
   "source": [
    "## Normalización de los conjuntos de datos"
   ]
  },
  {
   "cell_type": "code",
   "execution_count": 306,
   "metadata": {},
   "outputs": [],
   "source": [
    "#Mínimos y máximos\n",
    "def minimo(dfin):\n",
    "    min_0 = dfin[0].min()  #Columna 0\n",
    "    min_1 = dfin[1].min()  #Columna 1\n",
    "    min_2 = dfin[2].min()  #Columna 2\n",
    "    min_3 = dfin[3].min()  #Columna 3\n",
    "\n",
    "    return [min_0, min_1, min_2, min_3]\n",
    "\n",
    "def maximo(dfin):\n",
    "    max_0 = dfin[0].max()  #Columna 0\n",
    "    max_1 = dfin[1].max()  #Columna 1\n",
    "    max_2 = dfin[2].max()  #Columna 2\n",
    "    max_3 = dfin[3].max()  #Columna 3\n",
    "\n",
    "    return [max_0, max_1, max_2, max_3]\n",
    "\n",
    "# Normalización por columna\n",
    "def minmax_norm(dfin , min, max):\n",
    "    return (dfin - min) / (max - min)\n",
    "\n",
    "# Normalización del dataframe\n",
    "def norm_df(dfin, min = [0,0,0,0], max = [0,0,0,0]):\n",
    "\n",
    "    # Normalización de Dataframe de entrenamiento\n",
    "    df_norm_0 = minmax_norm(dfin[0], min[0], max[0])  #Columna 0\n",
    "    df_norm_1 = minmax_norm(dfin[1], min[1], max[1])  #Columna 1\n",
    "    df_norm_2 = minmax_norm(dfin[2], min[2], max[2])  #Columna 2\n",
    "    df_norm_3 = minmax_norm(dfin[3], min[3], max[3])  #Columna 3\n",
    "\n",
    "    return pd.DataFrame([df_norm_0,df_norm_1, df_norm_2, df_norm_3, dfin[5]] ).transpose()  # Dataframe con las columnas normalizadas\n",
    "\n",
    "#Mínimos y máximos para cada Dataframe\n",
    "global_min = minimo(df_T)    # Mínimo global de los datos\n",
    "global_max = maximo(df_T)    # Máximo global de los datos\n",
    "\n",
    "minimo_P = minimo(df_P)\n",
    "maximo_P = maximo(df_P)\n",
    "\n",
    "\n",
    "#Actualización de mínimo y máximo global en caso de que sea necesario\n",
    "for i in range(len(minimo_P)):\n",
    "    if minimo_P[i] < global_min[i]:\n",
    "        global_min[i] = minimo_P[i]\n",
    "    if maximo_P[i] > global_max[i]:\n",
    "        global_max[i] = maximo_P[i]\n",
    "\n",
    "#print(global_min, global_max)\n",
    "\n",
    "#Normalización Dataframe de entrenamiento\n",
    "# Normalización de Dataframe de validación\n",
    "df_norm_0 = minmax_norm(df_T[0], global_min[0], global_max[0])  #Columna 0\n",
    "df_norm_1 = minmax_norm(df_T[1], global_min[1], global_max[1])  #Columna 1\n",
    "df_norm_2 = minmax_norm(df_T[2], global_min[2], global_max[2])  #Columna 2\n",
    "df_norm_3 = minmax_norm(df_T[3], global_min[3], global_max[3])  #Columna 3\n",
    "\n",
    "df_TN = pd.DataFrame([df_norm_0,df_norm_1, df_norm_2, df_norm_3]).transpose()  # Dataframe con las columnas normalizadas\n",
    "\n",
    "#print(\"Entrenamiento Normalizado \\n\", df_TN)\n",
    "\n",
    "#Normalización Dataframe de prueba\n",
    "df_PN = norm_df(df_P, global_min, global_max)\n",
    "#print(\"Prueba Normalizado \\n\",df_PN)"
   ]
  },
  {
   "cell_type": "code",
   "execution_count": 307,
   "metadata": {},
   "outputs": [],
   "source": [
    "# Calcular Error\n",
    "etiquetas = df_T.iloc[:, -1].values\n",
    "etiquetas_prueba = df_P.iloc[:, -1].values\n",
    "\n",
    "\n",
    "def error(output, labels):\n",
    "    count_error = 0      #contador de errores\n",
    "    total_data = len(output)  #Total de datos\n",
    "\n",
    "    for i in range(len(output)):\n",
    "        if output[i] != labels[i]:\n",
    "            count_error += 1\n",
    "    \n",
    "    percentage = count_error * 100/total_data           # Porcentaje de error\n",
    "    percentage = round(percentage, 2)\n",
    "\n",
    "    return percentage"
   ]
  },
  {
   "cell_type": "markdown",
   "metadata": {},
   "source": [
    "## Para 3 clusters"
   ]
  },
  {
   "cell_type": "code",
   "execution_count": 308,
   "metadata": {},
   "outputs": [
    {
     "name": "stderr",
     "output_type": "stream",
     "text": [
      "C:\\Users\\pipe-\\anaconda3\\lib\\site-packages\\sklearn\\cluster\\_kmeans.py:984: RuntimeWarning: Explicit initial center position passed: performing only one init in KMeans instead of n_init=10.\n",
      "  self._check_params(X)\n"
     ]
    },
    {
     "name": "stdout",
     "output_type": "stream",
     "text": [
      "[0 0 0 0 0 0 0 0 0 0 0 0 0 0 0 0 0 0 0 0 0 0 0 0 0 0 0 0 0 0 0 0 0 0 0 1 1\n",
      " 1 1 1 1 1 1 1 1 1 1 1 1 1 1 1 1 1 1 2 1 1 1 1 1 1 2 1 1 1 1 1 1 1 2 2 2 2\n",
      " 2 2 1 2 2 2 2 2 2 2 2 2 2 2 2 1 2 2 2 2 2 2 2 2 2 2 2 2 2 1 1]\n"
     ]
    },
    {
     "data": {
      "image/png": "[encoded data removed]",
      "text/plain": [
       "<Figure size 432x288 with 1 Axes>"
      ]
     },
     "metadata": {
      "needs_background": "light"
     },
     "output_type": "display_data"
    },
    {
     "name": "stdout",
     "output_type": "stream",
     "text": [
      "[1, 1, 1, 1, 1, 1, 1, 1, 1, 1, 1, 1, 1, 1, 1, 1, 1, 1, 1, 1, 1, 1, 1, 1, 1, 1, 1, 1, 1, 1, 1, 1, 1, 1, 1, 2, 2, 2, 2, 2, 2, 2, 2, 2, 2, 2, 2, 2, 2, 2, 2, 2, 2, 2, 2, 3, 2, 2, 2, 2, 2, 2, 3, 2, 2, 2, 2, 2, 2, 2, 3, 3, 3, 3, 3, 3, 2, 3, 3, 3, 3, 3, 3, 3, 3, 3, 3, 3, 3, 2, 3, 3, 3, 3, 3, 3, 3, 3, 3, 3, 3, 3, 3, 2, 2]\n",
      "Error de entrenamiento 5.71\n"
     ]
    }
   ],
   "source": [
    "#Datos de entrenamiento normalizados con los dos descriptores seleccionados\n",
    "x = df_TN.iloc[:, [2, 3]].values\n",
    "\n",
    "centros = np.array([[0.1, 0.1], [0.3, 0.5], [0.6, 0.6]]) #Matriz que contiene las coordenadas de los centros\n",
    "\n",
    "kmeans = KMeans(n_clusters = 3, init = centros, max_iter = 300, random_state = 0)     #Entrenamiento para hallar los centros\n",
    "y_kmeans = kmeans.fit_predict(x)      #Obtener la clasificación de los datos de entrenamiento\n",
    "print(y_kmeans)                       # Se muestra la clasificación resultante de los datos de entrenamiento\n",
    "\n",
    "\n",
    "fig = plt.figure()\n",
    "ax1 = fig.add_subplot(111)\n",
    "# Visualización delos grupos\n",
    "ax1.scatter(x[y_kmeans == 0, 0], x[y_kmeans == 0, 1], c='purple', marker='o', label = 'Iris-setosa')\n",
    "ax1.scatter(x[y_kmeans == 1, 0], x[y_kmeans == 1, 1], c='orange', marker='x', label = 'Iris-versicolour')\n",
    "ax1.scatter(x[y_kmeans == 2, 0], x[y_kmeans == 2, 1], c='green', marker='*', label = 'Iris-virginica')\n",
    "\n",
    "# Visualización de los centroides de cada grupo\n",
    "ax1.scatter(kmeans.cluster_centers_[:, 0], kmeans.cluster_centers_[:, 1], s = 100, c = 'red', label = 'Centros')\n",
    "ax1.set_xlabel('X2')\n",
    "ax1.set_ylabel('X3')\n",
    "ax1.set_title(\"3 Grupos\")\n",
    "ax1.legend()\n",
    "\n",
    "plt.show()\n",
    "\n",
    "#Interpretación de la clasificación (El algoritmo le asigna en orden diferente)\n",
    "salida = []\n",
    "for i in y_kmeans:\n",
    "    if i == 0:\n",
    "        salida.append(1)\n",
    "    elif i == 1:\n",
    "        salida.append(2)\n",
    "    else:\n",
    "        salida.append(3)\n",
    "\n",
    "print(salida)\n",
    "\n",
    "print(\"Error de entrenamiento\", error(salida, etiquetas))"
   ]
  },
  {
   "cell_type": "code",
   "execution_count": 309,
   "metadata": {},
   "outputs": [
    {
     "name": "stdout",
     "output_type": "stream",
     "text": [
      "[0 0 0 0 0 0 0 0 0 0 0 0 0 0 0 1 1 1 1 1 1 1 1 1 1 1 1 1 1 1 2 2 2 2 2 2 2\n",
      " 2 2 2 2 2 2 2 2]\n"
     ]
    },
    {
     "data": {
      "image/png": "[encoded data removed]",
      "text/plain": [
       "<Figure size 432x288 with 1 Axes>"
      ]
     },
     "metadata": {
      "needs_background": "light"
     },
     "output_type": "display_data"
    },
    {
     "name": "stdout",
     "output_type": "stream",
     "text": [
      "[1, 1, 1, 1, 1, 1, 1, 1, 1, 1, 1, 1, 1, 1, 1, 2, 2, 2, 2, 2, 2, 2, 2, 2, 2, 2, 2, 2, 2, 2, 3, 3, 3, 3, 3, 3, 3, 3, 3, 3, 3, 3, 3, 3, 3]\n",
      "0.0\n"
     ]
    }
   ],
   "source": [
    "###############     Prueba   ################\n",
    "\n",
    "#Datos de prueba normalizadoscon los dos descriptores seleccionados\n",
    "prueba = df_PN.iloc[:, [2, 3]].values\n",
    "\n",
    "r_kmeans = kmeans.predict(prueba)    #Clasificación de los datos de prueba en base a los centros obtenidos\n",
    "print(r_kmeans)                      #Se muestra el resultado de la clasificación\n",
    "\n",
    "fig = plt.figure()\n",
    "ax1 = fig.add_subplot(111)\n",
    "# Visualización delos grupos\n",
    "ax1.scatter(prueba[r_kmeans == 0, 0], prueba[r_kmeans == 0, 1], c='purple', marker='o', label = 'Iris-setosa')\n",
    "ax1.scatter(prueba[r_kmeans == 1, 0], prueba[r_kmeans == 1, 1], c='orange', marker='x', label = 'Iris-versicolour')\n",
    "ax1.scatter(prueba[r_kmeans == 2, 0], prueba[r_kmeans == 2, 1], c='green', marker='*', label = 'Iris-virginica')\n",
    "\n",
    "# Visualización de los centroides de cada grupo\n",
    "ax1.scatter(kmeans.cluster_centers_[:, 0], kmeans.cluster_centers_[:, 1], s = 100, c = 'red', label = 'Centros')\n",
    "ax1.set_xlabel('X2')\n",
    "ax1.set_ylabel('X3')\n",
    "ax1.set_title(\"Prueba 3 Grupos\")\n",
    "ax1.legend()\n",
    "\n",
    "plt.show()\n",
    "\n",
    "\n",
    "#Interpretación de la clasificación (El algoritmo le asigna en orden diferente)\n",
    "salida = []\n",
    "for i in r_kmeans:\n",
    "    if i == 0:\n",
    "        salida.append(1)\n",
    "    elif i == 1:\n",
    "        salida.append(2)\n",
    "    else:\n",
    "        salida.append(3)\n",
    "\n",
    "print(salida)\n",
    "\n",
    "print(error(salida, etiquetas_prueba))\n"
   ]
  },
  {
   "cell_type": "markdown",
   "metadata": {},
   "source": [
    "# Para 4 clusters"
   ]
  },
  {
   "cell_type": "code",
   "execution_count": 310,
   "metadata": {},
   "outputs": [
    {
     "name": "stdout",
     "output_type": "stream",
     "text": [
      "[0 0 0 0 0 0 0 0 0 0 0 0 0 0 0 0 0 0 0 0 0 0 0 0 0 0 0 0 0 0 0 0 0 0 0 2 2\n",
      " 2 1 2 2 2 1 2 1 1 2 1 2 1 2 2 1 2 1 2 1 2 2 1 2 2 2 2 1 1 1 1 2 2 3 3 3 3\n",
      " 3 3 2 3 3 3 3 3 3 3 3 3 3 3 3 2 3 3 3 2 3 3 2 2 3 2 3 3 3 2 2]\n"
     ]
    },
    {
     "name": "stderr",
     "output_type": "stream",
     "text": [
      "C:\\Users\\pipe-\\anaconda3\\lib\\site-packages\\sklearn\\cluster\\_kmeans.py:984: RuntimeWarning: Explicit initial center position passed: performing only one init in KMeans instead of n_init=10.\n",
      "  self._check_params(X)\n"
     ]
    },
    {
     "data": {
      "image/png": "[encoded data removed]",
      "text/plain": [
       "<Figure size 432x288 with 1 Axes>"
      ]
     },
     "metadata": {
      "needs_background": "light"
     },
     "output_type": "display_data"
    },
    {
     "name": "stdout",
     "output_type": "stream",
     "text": [
      "[1, 1, 1, 1, 1, 1, 1, 1, 1, 1, 1, 1, 1, 1, 1, 1, 1, 1, 1, 1, 1, 1, 1, 1, 1, 1, 1, 1, 1, 1, 1, 1, 1, 1, 1, 2, 2, 2, 2, 2, 2, 2, 2, 2, 2, 2, 2, 2, 2, 2, 2, 2, 2, 2, 2, 2, 2, 2, 2, 2, 2, 2, 2, 2, 2, 2, 2, 2, 2, 2, 3, 3, 3, 3, 3, 3, 2, 3, 3, 3, 3, 3, 3, 3, 3, 3, 3, 3, 3, 2, 3, 3, 3, 2, 3, 3, 2, 2, 3, 2, 3, 3, 3, 2, 2]\n",
      "Error Entrenamiento: 7.62 %\n"
     ]
    }
   ],
   "source": [
    "#Datos de entrenamiento normalizados con los dos descriptores seleccionados\n",
    "x = df_TN.iloc[:, [2, 3]].values\n",
    "\n",
    "centros = np.array([[0.1, 0.1], [0.2, 0.4], [0.6, 0.6], [0.8, 0.7]]) #Matriz que contiene las coordenadas de los centros\n",
    "\n",
    "kmeans = KMeans(n_clusters = 4, init = centros , max_iter = 300, n_init = 10, random_state = 0) #Entrenamiento para hallar los centros\n",
    "y_kmeans = kmeans.fit_predict(x)       #Obtener la clasificación de los datos de entrenamiento\n",
    "print(y_kmeans)                        # Se muestra la clasificación resultante de los datos de entrenamiento\n",
    "\n",
    "\n",
    "fig = plt.figure()\n",
    "ax1 = fig.add_subplot(111)\n",
    "# Visualización delos grupos\n",
    "ax1.scatter(x[y_kmeans == 0, 0], x[y_kmeans == 0, 1], c='purple', marker='o', label = 'Iris-setosa')\n",
    "ax1.scatter(x[y_kmeans == 2, 0], x[y_kmeans == 2, 1], c='orange', marker='x', label = 'Iris-versicolour')\n",
    "ax1.scatter(x[y_kmeans == 1, 0], x[y_kmeans == 1, 1], c='blue', marker='o', label = 'Iris-versicolour')\n",
    "ax1.scatter(x[y_kmeans == 3, 0], x[y_kmeans == 3, 1], c='green', marker='*', label = 'Iris-virginica')\n",
    "\n",
    "# Visualización de los centros de cada grupo\n",
    "ax1.scatter(kmeans.cluster_centers_[:, 0], kmeans.cluster_centers_[:, 1], s = 100, c = 'red', label = 'Centros')\n",
    "ax1.set_xlabel('X2')\n",
    "ax1.set_ylabel('X3')\n",
    "ax1.set_title(\"4 Grupos\")\n",
    "ax1.legend()\n",
    "\n",
    "plt.show()\n",
    "\n",
    "#Interpretación de la clasificación (El algoritmo le asigna en orden diferente)\n",
    "salida = []\n",
    "for i in y_kmeans:\n",
    "    if i == 0:\n",
    "        salida.append(1)\n",
    "    elif i == 2 or i == 1:\n",
    "        salida.append(2)\n",
    "    else:\n",
    "        salida.append(3)\n",
    "\n",
    "print(salida)\n",
    "print(\"Error Entrenamiento:\",error(salida, etiquetas), \"%\")"
   ]
  },
  {
   "cell_type": "code",
   "execution_count": 311,
   "metadata": {},
   "outputs": [
    {
     "name": "stdout",
     "output_type": "stream",
     "text": [
      "[0 0 0 0 0 0 0 0 0 0 0 0 0 0 0 2 2 2 1 1 1 2 1 1 1 1 1 1 1 1 3 3 3 2 3 3 3\n",
      " 3 3 3 3 3 3 3 2]\n"
     ]
    },
    {
     "data": {
      "image/png": "[encoded data removed]",
      "text/plain": [
       "<Figure size 432x288 with 1 Axes>"
      ]
     },
     "metadata": {
      "needs_background": "light"
     },
     "output_type": "display_data"
    },
    {
     "name": "stdout",
     "output_type": "stream",
     "text": [
      "[1, 1, 1, 1, 1, 1, 1, 1, 1, 1, 1, 1, 1, 1, 1, 2, 2, 2, 2, 2, 2, 2, 2, 2, 2, 2, 2, 2, 2, 2, 3, 3, 3, 2, 3, 3, 3, 3, 3, 3, 3, 3, 3, 3, 2]\n",
      "4.44\n"
     ]
    }
   ],
   "source": [
    "###############     Prueba   ################\n",
    "\n",
    "#Datos de prueba normalizadoscon los dos descriptores seleccionados\n",
    "prueba = df_PN.iloc[:, [2, 3]].values\n",
    "\n",
    "r_kmeans = kmeans.predict(prueba)    #Clasificación de los datos de prueba en base a los centros obtenidos\n",
    "print(r_kmeans)                      #Se muestra el resultado de la clasificación\n",
    "\n",
    "fig = plt.figure()\n",
    "ax1 = fig.add_subplot(111)\n",
    "# Visualización delos grupos\n",
    "ax1.scatter(prueba[r_kmeans == 0, 0], prueba[r_kmeans == 0, 1], c='purple', marker='o', label = 'Iris-setosa')\n",
    "ax1.scatter(prueba[r_kmeans == 2, 0], prueba[r_kmeans == 2, 1], c='orange', marker='x', label = 'Iris-versicolour')\n",
    "ax1.scatter(prueba[r_kmeans == 1, 0], prueba[r_kmeans == 1, 1], c='blue', marker='o', label = 'Iris-versicolour')\n",
    "ax1.scatter(prueba[r_kmeans == 3, 0], prueba[r_kmeans == 3, 1], c='green', marker='*', label = 'Iris-virginica')\n",
    "\n",
    "# Visualización de los centros de cada grupo\n",
    "ax1.scatter(kmeans.cluster_centers_[:, 0], kmeans.cluster_centers_[:, 1], s = 100, c = 'red', label = 'Centros')\n",
    "ax1.set_xlabel('X2')\n",
    "ax1.set_ylabel('X3')\n",
    "ax1.set_title(\"Prueba 4 Grupos\")\n",
    "ax1.legend()\n",
    "\n",
    "plt.show()\n",
    "\n",
    "#Interpretación de la clasificación (El algoritmo le asigna en orden diferente)\n",
    "salida = []\n",
    "for i in r_kmeans:\n",
    "    if i == 0:\n",
    "        salida.append(1)\n",
    "    elif i == 2 or i == 1:\n",
    "        salida.append(2)\n",
    "    else:\n",
    "        salida.append(3)\n",
    "\n",
    "print(salida)\n",
    "print(error(salida, etiquetas_prueba))\n"
   ]
  },
  {
   "cell_type": "markdown",
   "metadata": {},
   "source": [
    "# Para 5 clusters"
   ]
  },
  {
   "cell_type": "code",
   "execution_count": 312,
   "metadata": {},
   "outputs": [
    {
     "name": "stdout",
     "output_type": "stream",
     "text": [
      "[0 0 0 0 0 0 0 0 0 0 0 0 0 0 0 0 0 0 0 0 0 0 0 0 0 0 0 0 0 0 0 0 0 0 0 3 3\n",
      " 3 2 3 3 3 2 3 2 2 3 2 3 2 3 3 2 3 2 3 2 3 3 3 3 3 3 3 2 2 2 2 3 3 1 4 4 4\n",
      " 4 1 3 4 4 1 4 4 4 4 4 4 4 1 1 3 4 4 1 3 4 4 3 3 4 4 4 1 4 3 3]\n"
     ]
    },
    {
     "name": "stderr",
     "output_type": "stream",
     "text": [
      "C:\\Users\\pipe-\\anaconda3\\lib\\site-packages\\sklearn\\cluster\\_kmeans.py:984: RuntimeWarning: Explicit initial center position passed: performing only one init in KMeans instead of n_init=10.\n",
      "  self._check_params(X)\n"
     ]
    },
    {
     "data": {
      "image/png": "[encoded data removed]",
      "text/plain": [
       "<Figure size 432x288 with 1 Axes>"
      ]
     },
     "metadata": {
      "needs_background": "light"
     },
     "output_type": "display_data"
    },
    {
     "name": "stdout",
     "output_type": "stream",
     "text": [
      "[1, 1, 1, 1, 1, 1, 1, 1, 1, 1, 1, 1, 1, 1, 1, 1, 1, 1, 1, 1, 1, 1, 1, 1, 1, 1, 1, 1, 1, 1, 1, 1, 1, 1, 1, 2, 2, 2, 2, 2, 2, 2, 2, 2, 2, 2, 2, 2, 2, 2, 2, 2, 2, 2, 2, 2, 2, 2, 2, 2, 2, 2, 2, 2, 2, 2, 2, 2, 2, 2, 3, 3, 3, 3, 3, 3, 2, 3, 3, 3, 3, 3, 3, 3, 3, 3, 3, 3, 3, 2, 3, 3, 3, 2, 3, 3, 2, 2, 3, 3, 3, 3, 3, 2, 2]\n",
      "Error de entrenamiento: 6.67\n"
     ]
    }
   ],
   "source": [
    "#Datos de entrenamiento normalizados con los dos descriptores seleccionados\n",
    "x = df_TN.iloc[:, [2, 3]].values\n",
    "\n",
    "centros = np.array([[0.1, 0.1], [0.2, 0.2], [0.4, 0.4], [0.6,0.6], [0.8,0.8]]) #Matriz que contiene las coordenadas de los centros\n",
    "\n",
    "kmeans = KMeans(n_clusters = 5, init = centros, max_iter = 300, n_init = 10, random_state = 0)  #Entrenamiento para hallar los centros\n",
    "y_kmeans = kmeans.fit_predict(x)            #Obtener la clasificación de los datos de entrenamiento\n",
    "print(y_kmeans)                             # Se muestra la clasificación resultante de los datos de entrenamiento\n",
    "\n",
    "\n",
    "fig = plt.figure()\n",
    "ax1 = fig.add_subplot(111)\n",
    "# Visualización delos grupos\n",
    "ax1.scatter(x[y_kmeans == 0, 0], x[y_kmeans == 0, 1], c='purple', marker='o', label = 'Iris-setosa')\n",
    "ax1.scatter(x[y_kmeans == 3, 0], x[y_kmeans == 3, 1], c='black', marker='+', label = 'Iris-versicolour')\n",
    "ax1.scatter(x[y_kmeans == 2, 0], x[y_kmeans == 2, 1], c='orange', marker='x', label = 'Iris-versicolour')\n",
    "ax1.scatter(x[y_kmeans == 1, 0], x[y_kmeans == 1, 1], c='green', marker='*', label = 'Iris-virginica')\n",
    "ax1.scatter(x[y_kmeans == 4, 0], x[y_kmeans == 4, 1], c='blue', marker='o', label = 'Iris-virginica')\n",
    "\n",
    "# Visualización de los centros de cada grupo\n",
    "ax1.scatter(kmeans.cluster_centers_[:, 0], kmeans.cluster_centers_[:, 1], s = 100, c = 'red', label = 'Centros')\n",
    "ax1.set_xlabel('X2')\n",
    "ax1.set_ylabel('X3')\n",
    "ax1.set_title(\"5 Grupos\")\n",
    "ax1.legend()\n",
    "\n",
    "plt.show()\n",
    "\n",
    "#Interpretación de la clasificación (El algoritmo le asigna en orden diferente)\n",
    "salida = []\n",
    "for i in y_kmeans:\n",
    "    if i == 0 : \n",
    "        salida.append(1)\n",
    "    elif i == 3 or i == 2:\n",
    "        salida.append(2)\n",
    "    else:\n",
    "        salida.append(3)\n",
    "\n",
    "print(salida)\n",
    "print(\"Error de entrenamiento:\",error(salida, etiquetas))"
   ]
  },
  {
   "cell_type": "code",
   "execution_count": 313,
   "metadata": {},
   "outputs": [
    {
     "name": "stdout",
     "output_type": "stream",
     "text": [
      "[0 0 0 0 0 0 0 0 0 0 0 0 0 0 0 3 3 3 2 2 2 3 2 2 2 2 2 3 2 2 1 4 4 3 4 4 4\n",
      " 4 1 1 4 4 4 4 4]\n"
     ]
    },
    {
     "data": {
      "image/png": "[encoded data removed]",
      "text/plain": [
       "<Figure size 432x288 with 1 Axes>"
      ]
     },
     "metadata": {
      "needs_background": "light"
     },
     "output_type": "display_data"
    },
    {
     "name": "stdout",
     "output_type": "stream",
     "text": [
      "[1, 1, 1, 1, 1, 1, 1, 1, 1, 1, 1, 1, 1, 1, 1, 2, 2, 2, 2, 2, 2, 2, 2, 2, 2, 2, 2, 2, 2, 2, 3, 3, 3, 2, 3, 3, 3, 3, 3, 3, 3, 3, 3, 3, 3]\n",
      "2.22\n"
     ]
    }
   ],
   "source": [
    "###############     Prueba   ################\n",
    "\n",
    "#Datos de prueba normalizadoscon los dos descriptores seleccionados\n",
    "prueba = df_PN.iloc[:, [2, 3]].values\n",
    "\n",
    "r_kmeans = kmeans.predict(prueba)       #Clasificación de los datos de prueba en base a los centros obtenidos\n",
    "print(r_kmeans)                         #Se muestra el resultado de la clasificación\n",
    "\n",
    "fig = plt.figure()\n",
    "ax1 = fig.add_subplot(111)\n",
    "# Visualización delos grupos\n",
    "ax1.scatter(prueba[r_kmeans == 0, 0], prueba[r_kmeans == 0, 1], c='purple', marker='o', label = 'Iris-setosa')\n",
    "ax1.scatter(prueba[r_kmeans == 3, 0], prueba[r_kmeans == 3, 1], c='black', marker='+', label = 'Iris-versicolour')\n",
    "ax1.scatter(prueba[r_kmeans == 2, 0], prueba[r_kmeans == 2, 1], c='orange', marker='x', label = 'Iris-versicolour')\n",
    "ax1.scatter(prueba[r_kmeans == 1, 0], prueba[r_kmeans == 1, 1], c='green', marker='*', label = 'Iris-virginica')\n",
    "ax1.scatter(prueba[r_kmeans == 4, 0], prueba[r_kmeans == 4, 1], c='blue', marker='o', label = 'Iris-virginica')\n",
    "\n",
    "# Visualización de los centros de cada grupo\n",
    "ax1.scatter(kmeans.cluster_centers_[:, 0], kmeans.cluster_centers_[:, 1], s = 100, c = 'red', label = 'Centros')\n",
    "ax1.set_xlabel('X2')\n",
    "ax1.set_ylabel('X3')\n",
    "ax1.set_title(\"Prueba 5 Grupos\")\n",
    "ax1.legend()\n",
    "\n",
    "plt.show()\n",
    "\n",
    "#Interpretación de la clasificación (El algoritmo le asigna en orden diferente)\n",
    "salida = []\n",
    "for i in r_kmeans:\n",
    "    if i == 0 : \n",
    "        salida.append(1)\n",
    "    elif i == 3 or i == 2:\n",
    "        salida.append(2)\n",
    "    else:\n",
    "        salida.append(3)\n",
    "\n",
    "print(salida)\n",
    "\n",
    "print(error(salida, etiquetas_prueba))\n"
   ]
  },
  {
   "cell_type": "markdown",
   "metadata": {},
   "source": [
    "# Para 6 clusters"
   ]
  },
  {
   "cell_type": "code",
   "execution_count": 314,
   "metadata": {},
   "outputs": [
    {
     "name": "stdout",
     "output_type": "stream",
     "text": [
      "[0 0 0 0 0 0 0 0 0 0 0 0 0 0 0 0 0 0 0 0 0 0 0 0 0 0 0 0 0 0 0 0 0 0 0 3 3\n",
      " 3 2 3 3 3 2 3 2 2 3 2 3 2 3 3 2 3 2 4 2 3 3 3 3 3 4 3 2 2 2 2 4 3 5 4 5 4\n",
      " 5 1 3 1 4 5 4 4 5 4 5 5 4 1 1 3 5 4 1 4 5 1 4 4 5 4 1 1 5 3 3]\n"
     ]
    },
    {
     "name": "stderr",
     "output_type": "stream",
     "text": [
      "C:\\Users\\pipe-\\anaconda3\\lib\\site-packages\\sklearn\\cluster\\_kmeans.py:984: RuntimeWarning: Explicit initial center position passed: performing only one init in KMeans instead of n_init=10.\n",
      "  self._check_params(X)\n"
     ]
    },
    {
     "data": {
      "image/png": "[encoded data removed]",
      "text/plain": [
       "<Figure size 432x288 with 1 Axes>"
      ]
     },
     "metadata": {
      "needs_background": "light"
     },
     "output_type": "display_data"
    },
    {
     "name": "stdout",
     "output_type": "stream",
     "text": [
      "[1, 1, 1, 1, 1, 1, 1, 1, 1, 1, 1, 1, 1, 1, 1, 1, 1, 1, 1, 1, 1, 1, 1, 1, 1, 1, 1, 1, 1, 1, 1, 1, 1, 1, 1, 2, 2, 2, 2, 2, 2, 2, 2, 2, 2, 2, 2, 2, 2, 2, 2, 2, 2, 2, 2, 3, 2, 2, 2, 2, 2, 2, 3, 2, 2, 2, 2, 2, 3, 2, 3, 3, 3, 3, 3, 3, 2, 3, 3, 3, 3, 3, 3, 3, 3, 3, 3, 3, 3, 2, 3, 3, 3, 3, 3, 3, 3, 3, 3, 3, 3, 3, 3, 2, 2]\n",
      "Error de entrenamiento 6.67\n"
     ]
    }
   ],
   "source": [
    "#Datos de entrenamiento normalizados con los dos descriptores seleccionados\n",
    "x = df_TN.iloc[:, [2, 3]].values\n",
    "\n",
    "centros = np.array([[0.1, 0.1],[0.2, 0.2], [0.3, 0.4], [0.5, 0.5], [0.7, 0.7], [0.8, 0.9]]) #Matriz que contiene las coordenadas de los centros\n",
    "\n",
    "kmeans = KMeans(n_clusters = 6, init = centros, max_iter = 300, n_init = 10, random_state = 0)    #Entrenamiento para hallar los centros\n",
    "y_kmeans = kmeans.fit_predict(x)             #Obtener la clasificación de los datos de entrenamiento\n",
    "print(y_kmeans)                              # Se muestra la clasificación resultante de los datos de entrenamiento\n",
    "\n",
    "\n",
    "fig = plt.figure()\n",
    "ax1 = fig.add_subplot(111)\n",
    "# Visualización delos grupos\n",
    "ax1.scatter(x[y_kmeans == 0, 0], x[y_kmeans == 0, 1], c='purple', marker='o', label = 'Iris-setosa')\n",
    "ax1.scatter(x[y_kmeans == 2, 0], x[y_kmeans == 2, 1], c='black', marker='+', label = 'Iris-versicolour')\n",
    "ax1.scatter(x[y_kmeans == 3, 0], x[y_kmeans == 3, 1], c='orange', marker='x', label = 'Iris-versicolour')\n",
    "ax1.scatter(x[y_kmeans == 4, 0], x[y_kmeans == 4, 1], c='green', marker='*', label = 'Iris-virginica')\n",
    "ax1.scatter(x[y_kmeans == 5, 0], x[y_kmeans == 5, 1], c='blue', marker='o', label = 'Iris-virginica')\n",
    "ax1.scatter(x[y_kmeans == 1, 0], x[y_kmeans == 1, 1], c='black', marker='x', label = 'Iris-virginica')\n",
    "\n",
    "# Visualización de los centros de cada grupo\n",
    "ax1.scatter(kmeans.cluster_centers_[:, 0], kmeans.cluster_centers_[:, 1], s = 100, c = 'red', label = 'Centros')\n",
    "ax1.set_xlabel('X2')\n",
    "ax1.set_ylabel('X3')\n",
    "ax1.set_title(\"6 Grupos\")\n",
    "ax1.legend()\n",
    "\n",
    "plt.show()\n",
    "\n",
    "#Interpretación de la clasificación (El algoritmo le asigna en orden diferente)\n",
    "salida = []\n",
    "for i in y_kmeans:\n",
    "    if i == 0: \n",
    "        salida.append(1)\n",
    "    elif i == 2 or i == 3:\n",
    "        salida.append(2)\n",
    "    else:\n",
    "        salida.append(3)\n",
    "\n",
    "print(salida)\n",
    "print(\"Error de entrenamiento\",error(salida, etiquetas))"
   ]
  },
  {
   "cell_type": "code",
   "execution_count": 336,
   "metadata": {},
   "outputs": [
    {
     "name": "stdout",
     "output_type": "stream",
     "text": [
      "[0 0 0 0 0 0 0 0 0 0 0 0 0 0 0 3 3 3 2 2 2 3 2 2 3 2 3 3 2 2 5 5 4 4 5 5 5\n",
      " 4 5 5 5 4 4 5 4]\n"
     ]
    },
    {
     "data": {
      "image/png": "[encoded data removed]",
      "text/plain": [
       "<Figure size 432x288 with 1 Axes>"
      ]
     },
     "metadata": {
      "needs_background": "light"
     },
     "output_type": "display_data"
    },
    {
     "name": "stdout",
     "output_type": "stream",
     "text": [
      "[1, 1, 1, 1, 1, 1, 1, 1, 1, 1, 1, 1, 1, 1, 1, 2, 2, 2, 2, 2, 2, 2, 2, 2, 2, 2, 2, 2, 2, 2, 3, 3, 3, 3, 3, 3, 3, 3, 3, 3, 3, 3, 3, 3, 3]\n",
      "0.0\n"
     ]
    }
   ],
   "source": [
    "###############     Prueba   ################\n",
    "\n",
    "#Datos de prueba normalizadoscon los dos descriptores seleccionados\n",
    "prueba = df_PN.iloc[:, [2, 3]].values\n",
    "\n",
    "r_kmeans = kmeans.predict(prueba)      #Clasificación de los datos de prueba en base a los centros obtenidos\n",
    "print(r_kmeans)                        #Se muestra el resultado de la clasificación\n",
    "\n",
    "fig = plt.figure()\n",
    "ax1 = fig.add_subplot(111)\n",
    "# Visualización delos grupos\n",
    "ax1.scatter(prueba[r_kmeans == 0, 0], prueba[r_kmeans == 0, 1], c='purple', marker='o', label = 'Iris-setosa')\n",
    "ax1.scatter(prueba[r_kmeans == 2, 0], prueba[r_kmeans == 2, 1], c='black', marker='+', label = 'Iris-versicolour')\n",
    "ax1.scatter(prueba[r_kmeans == 3, 0], prueba[r_kmeans == 3, 1], c='orange', marker='x', label = 'Iris-versicolour')\n",
    "ax1.scatter(prueba[r_kmeans == 4, 0], prueba[r_kmeans == 4, 1], c='green', marker='*', label = 'Iris-virginica')\n",
    "ax1.scatter(prueba[r_kmeans == 5, 0], prueba[r_kmeans == 5, 1], c='blue', marker='o', label = 'Iris-virginica')\n",
    "ax1.scatter(prueba[r_kmeans == 1, 0], prueba[r_kmeans == 1, 1], c='black', marker='x', label = 'Iris-virginica')\n",
    "\n",
    "# Visualización de los centros de cada grupo\n",
    "ax1.scatter(kmeans.cluster_centers_[:, 0], kmeans.cluster_centers_[:, 1], s = 100, c = 'red', label = 'Centros')\n",
    "ax1.set_xlabel('X2')\n",
    "ax1.set_ylabel('X3')\n",
    "ax1.set_title(\"Prueba 6 Grupos\")\n",
    "ax1.legend()\n",
    "\n",
    "plt.show()\n",
    "\n",
    "#Interpretación de la clasificación (El algoritmo le asigna en orden diferente)\n",
    "salida = []\n",
    "for i in r_kmeans:\n",
    "    if i == 0: \n",
    "        salida.append(1)\n",
    "    elif i == 2 or i == 3:\n",
    "        salida.append(2)\n",
    "    else:\n",
    "        salida.append(3)\n",
    "\n",
    "print(salida)\n",
    "\n",
    "print(error(salida, etiquetas_prueba))\n",
    "\n",
    "\n"
   ]
  },
  {
   "cell_type": "markdown",
   "metadata": {},
   "source": [
    "# Punto 2"
   ]
  },
  {
   "cell_type": "code",
   "execution_count": 316,
   "metadata": {},
   "outputs": [],
   "source": [
    "from fcmeans import FCM"
   ]
  },
  {
   "cell_type": "markdown",
   "metadata": {},
   "source": [
    "# Para 3 clusters"
   ]
  },
  {
   "cell_type": "code",
   "execution_count": 327,
   "metadata": {},
   "outputs": [
    {
     "name": "stdout",
     "output_type": "stream",
     "text": [
      "[0 0 0 0 0 0 0 0 0 0 0 0 0 0 0 0 0 0 0 0 0 0 0 0 0 0 0 0 0 0 0 0 0 0 0 2 2\n",
      " 2 2 2 2 2 2 2 2 2 2 2 2 2 2 2 2 2 2 1 2 2 2 2 2 2 2 2 2 2 2 2 2 2 1 1 1 1\n",
      " 1 1 2 1 1 1 1 1 1 1 1 1 1 1 1 2 1 1 1 1 1 1 1 1 1 1 1 1 1 2 2]\n"
     ]
    },
    {
     "data": {
      "image/png": "[encoded data removed]",
      "text/plain": [
       "<Figure size 432x288 with 1 Axes>"
      ]
     },
     "metadata": {
      "needs_background": "light"
     },
     "output_type": "display_data"
    },
    {
     "name": "stdout",
     "output_type": "stream",
     "text": [
      "[1, 1, 1, 1, 1, 1, 1, 1, 1, 1, 1, 1, 1, 1, 1, 1, 1, 1, 1, 1, 1, 1, 1, 1, 1, 1, 1, 1, 1, 1, 1, 1, 1, 1, 1, 2, 2, 2, 2, 2, 2, 2, 2, 2, 2, 2, 2, 2, 2, 2, 2, 2, 2, 2, 2, 3, 2, 2, 2, 2, 2, 2, 2, 2, 2, 2, 2, 2, 2, 2, 3, 3, 3, 3, 3, 3, 2, 3, 3, 3, 3, 3, 3, 3, 3, 3, 3, 3, 3, 2, 3, 3, 3, 3, 3, 3, 3, 3, 3, 3, 3, 3, 3, 2, 2]\n",
      "Error de entrenamiento 4.76\n",
      "[[100.   0.   0.]\n",
      " [100.   0.   0.]\n",
      " [100.   0.   0.]\n",
      " [100.   0.   0.]\n",
      " [100.   0.   0.]\n",
      " [ 98.   1.   1.]\n",
      " [100.   0.   0.]\n",
      " [100.   0.   0.]\n",
      " [100.   0.   0.]\n",
      " [ 99.   0.   1.]\n",
      " [100.   0.   0.]\n",
      " [100.   0.   0.]\n",
      " [ 99.   0.   1.]\n",
      " [ 98.   1.   1.]\n",
      " [ 99.   0.   0.]\n",
      " [ 99.   0.   1.]\n",
      " [ 98.   1.   1.]\n",
      " [100.   0.   0.]\n",
      " [ 99.   0.   0.]\n",
      " [100.   0.   0.]\n",
      " [ 99.   0.   0.]\n",
      " [ 99.   0.   1.]\n",
      " [ 98.   1.   1.]\n",
      " [ 95.   1.   4.]\n",
      " [ 98.   1.   1.]\n",
      " [100.   0.   0.]\n",
      " [ 98.   0.   1.]\n",
      " [100.   0.   0.]\n",
      " [100.   0.   0.]\n",
      " [100.   0.   0.]\n",
      " [100.   0.   0.]\n",
      " [ 99.   0.   1.]\n",
      " [ 99.   0.   1.]\n",
      " [100.   0.   0.]\n",
      " [ 99.   0.   1.]\n",
      " [  0.   2.  97.]\n",
      " [  1.   3.  96.]\n",
      " [  1.  12.  87.]\n",
      " [  1.   3.  96.]\n",
      " [  1.   4.  95.]\n",
      " [  0.   1.  99.]\n",
      " [  2.  15.  84.]\n",
      " [ 21.  11.  68.]\n",
      " [  0.   2.  98.]\n",
      " [  2.   4.  94.]\n",
      " [ 16.  11.  73.]\n",
      " [  1.   3.  96.]\n",
      " [  9.   9.  83.]\n",
      " [  0.   2.  97.]\n",
      " [  5.   8.  87.]\n",
      " [  0.   0. 100.]\n",
      " [  1.   3.  96.]\n",
      " [  8.   9.  84.]\n",
      " [  1.   3.  96.]\n",
      " [  6.   7.  87.]\n",
      " [  2.  49.  49.]\n",
      " [  1.   3.  96.]\n",
      " [  1.  12.  87.]\n",
      " [  2.   5.  94.]\n",
      " [  0.   1.  99.]\n",
      " [  0.   0. 100.]\n",
      " [  1.   4.  95.]\n",
      " [  2.  43.  55.]\n",
      " [  1.   3.  96.]\n",
      " [ 16.  11.  73.]\n",
      " [  7.   8.  85.]\n",
      " [ 13.  10.  78.]\n",
      " [  4.   5.  91.]\n",
      " [  2.  32.  66.]\n",
      " [  1.   3.  96.]\n",
      " [  2.  87.  11.]\n",
      " [  1.  79.  20.]\n",
      " [  0.  99.   1.]\n",
      " [  1.  86.  13.]\n",
      " [  0.  97.   2.]\n",
      " [  1.  90.   9.]\n",
      " [  2.  22.  76.]\n",
      " [  2.  86.  13.]\n",
      " [  1.  88.  11.]\n",
      " [  2.  86.  11.]\n",
      " [  1.  86.  13.]\n",
      " [  1.  88.  11.]\n",
      " [  0.  98.   2.]\n",
      " [  1.  82.  17.]\n",
      " [  2.  83.  14.]\n",
      " [  1.  90.   9.]\n",
      " [  1.  84.  15.]\n",
      " [  2.  88.  10.]\n",
      " [  3.  84.  13.]\n",
      " [  2.  16.  83.]\n",
      " [  1.  94.   5.]\n",
      " [  2.  77.  21.]\n",
      " [  2.  87.  11.]\n",
      " [  2.  55.  43.]\n",
      " [  0. 100.   0.]\n",
      " [  1.  88.  11.]\n",
      " [  2.  49.  49.]\n",
      " [  2.  55.  43.]\n",
      " [  0.  99.   1.]\n",
      " [  3.  64.  34.]\n",
      " [  1.  94.   5.]\n",
      " [  1.  92.   7.]\n",
      " [  0.  97.   3.]\n",
      " [  2.  20.  78.]\n",
      " [  4.  35.  62.]] 2\n"
     ]
    }
   ],
   "source": [
    "#Datos de entrenamiento normalizados con los dos descriptores seleccionados\n",
    "x = df_TN.iloc[:, [ 2, 3]].values\n",
    "\n",
    "\n",
    "fcmean = FCM(n_clusters=3,m = 2.0, n_init=10, random_state=0)  #Parámetros para el algoritmo\n",
    "y_fcmeans = fcmean.fit(x)               #Entrenamiento para hallar los centros\n",
    "r_fcmeans = fcmean.predict(x)           #Obtener la clasificación de los datos de entrenamiento\n",
    "\n",
    "print(r_fcmeans)                        # Se muestra la clasificación resultante de los datos de entrenamiento\n",
    "\n",
    "fig = plt.figure()\n",
    "ax1 = fig.add_subplot(111)\n",
    "# Visualización delos grupos\n",
    "ax1.scatter(x[r_fcmeans == 0, 0], x[r_fcmeans == 0, 1], c='purple', marker='o', label = 'Iris-setosa')\n",
    "ax1.scatter(x[r_fcmeans == 2, 0], x[r_fcmeans == 2, 1], c='orange', marker='x', label = 'Iris-versicolour')\n",
    "ax1.scatter(x[r_fcmeans == 1, 0], x[r_fcmeans == 1, 1], c='green', marker='*', label = 'Iris-virginica')\n",
    "\n",
    "# Visualización de los centros de cada grupo\n",
    "ax1.scatter(fcmean.centers[:, 0], fcmean.centers[:, 1], s = 100, c = 'red', label = 'Centros')\n",
    "ax1.set_xlabel('X2')\n",
    "ax1.set_ylabel('X3')\n",
    "ax1.set_title(\"3 Grupos FCM\")\n",
    "ax1.legend()\n",
    "\n",
    "plt.show()\n",
    "\n",
    "#Interpretación de la clasificación (El algoritmo le asigna en orden diferente)\n",
    "salida = []\n",
    "for i in r_fcmeans:\n",
    "    if i == 0:\n",
    "        salida.append(1)\n",
    "    elif i == 2:\n",
    "        salida.append(2)\n",
    "    else:\n",
    "        salida.append(3)\n",
    "\n",
    "print(salida)\n",
    "\n",
    "print(\"Error de entrenamiento\", error(salida, etiquetas))\n",
    "\n",
    "pert_fcmeans = fcmean.soft_predict(x)\n",
    "print(np.round(pert_fcmeans * 100), 2)\n"
   ]
  },
  {
   "cell_type": "code",
   "execution_count": 328,
   "metadata": {},
   "outputs": [
    {
     "name": "stdout",
     "output_type": "stream",
     "text": [
      "[0 0 0 0 0 0 0 0 0 0 0 0 0 0 0 2 2 2 2 2 2 2 2 2 2 2 2 2 2 2 1 1 1 1 1 1 1\n",
      " 1 1 1 1 1 1 1 1]\n"
     ]
    },
    {
     "data": {
      "image/png": "[encoded data removed]",
      "text/plain": [
       "<Figure size 432x288 with 1 Axes>"
      ]
     },
     "metadata": {
      "needs_background": "light"
     },
     "output_type": "display_data"
    },
    {
     "name": "stdout",
     "output_type": "stream",
     "text": [
      "[1, 1, 1, 1, 1, 1, 1, 1, 1, 1, 1, 1, 1, 1, 1, 2, 2, 2, 2, 2, 2, 2, 2, 2, 2, 2, 2, 2, 2, 2, 3, 3, 3, 3, 3, 3, 3, 3, 3, 3, 3, 3, 3, 3, 3]\n",
      "0.0\n",
      "[[ 99.   0.   0.]\n",
      " [100.   0.   0.]\n",
      " [ 99.   0.   1.]\n",
      " [100.   0.   0.]\n",
      " [100.   0.   0.]\n",
      " [100.   0.   0.]\n",
      " [100.   0.   0.]\n",
      " [100.   0.   0.]\n",
      " [ 91.   2.   6.]\n",
      " [ 96.   1.   3.]\n",
      " [100.   0.   0.]\n",
      " [100.   0.   0.]\n",
      " [100.   0.   0.]\n",
      " [100.   0.   0.]\n",
      " [100.   0.   0.]\n",
      " [  1.  10.  88.]\n",
      " [  1.   6.  93.]\n",
      " [  0.   1.  99.]\n",
      " [  1.   2.  97.]\n",
      " [  1.   3.  96.]\n",
      " [  1.   3.  96.]\n",
      " [  0.   1.  99.]\n",
      " [  3.   4.  93.]\n",
      " [ 21.  11.  68.]\n",
      " [  1.   1.  98.]\n",
      " [  2.   3.  95.]\n",
      " [  1.   1.  98.]\n",
      " [  0.   1.  99.]\n",
      " [ 23.  12.  65.]\n",
      " [  1.   2.  97.]\n",
      " [  1.  93.   6.]\n",
      " [  2.  89.   9.]\n",
      " [  1.  84.  15.]\n",
      " [  2.  49.  49.]\n",
      " [  0.  97.   3.]\n",
      " [  2.  89.   9.]\n",
      " [  2.  86.  12.]\n",
      " [  1.  79.  20.]\n",
      " [  1.  94.   5.]\n",
      " [  2.  86.  12.]\n",
      " [  2.  88.  10.]\n",
      " [  2.  74.  24.]\n",
      " [  1.  90.   9.]\n",
      " [  1.  91.   7.]\n",
      " [  2.  66.  32.]] 2\n"
     ]
    }
   ],
   "source": [
    "###############     Prueba   ################\n",
    "\n",
    "#Datos de prueba normalizadoscon los dos descriptores seleccionados\n",
    "prueba = df_PN.iloc[:, [2, 3]].values\n",
    "\n",
    "r_fcmeans = fcmean.predict(prueba)  #Clasificación de los datos de prueba en base a los centros obtenidos\n",
    "print(r_fcmeans)                    #Se muestra el resultado de la clasificación\n",
    "\n",
    "fig = plt.figure()\n",
    "ax1 = fig.add_subplot(111)\n",
    "# Visualización delos grupos\n",
    "ax1.scatter(prueba[r_fcmeans == 0, 0], prueba[r_fcmeans == 0, 1], c='purple', marker='o', label = 'Iris-setosa')\n",
    "ax1.scatter(prueba[r_fcmeans == 2, 0], prueba[r_fcmeans == 2, 1], c='orange', marker='x', label = 'Iris-versicolour')\n",
    "ax1.scatter(prueba[r_fcmeans == 1, 0], prueba[r_fcmeans == 1, 1], c='green', marker='*', label = 'Iris-virginica')\n",
    "\n",
    "# Visualización de los centros de cada grupo\n",
    "ax1.scatter(fcmean.centers[:, 0], fcmean.centers[:, 1], s = 100, c = 'red', label = 'Centros')\n",
    "ax1.set_xlabel('X2')\n",
    "ax1.set_ylabel('X3')\n",
    "ax1.set_title(\"Prueba 3 Grupos FCM\")\n",
    "ax1.legend()\n",
    "\n",
    "plt.show()\n",
    "\n",
    "#Interpretación de la clasificación (El algoritmo le asigna en orden diferente)\n",
    "salida = []\n",
    "for i in r_fcmeans:\n",
    "    if i == 0:\n",
    "        salida.append(1)\n",
    "    elif i == 2:\n",
    "        salida.append(2)\n",
    "    else:\n",
    "        salida.append(3)\n",
    "\n",
    "print(salida)\n",
    "\n",
    "print(error(salida, etiquetas_prueba))\n",
    "\n",
    "# Matriz de grados de pertenecia\n",
    "pert_fcmeans = fcmean.soft_predict(prueba)\n",
    "print(np.round(pert_fcmeans * 100), 2)"
   ]
  },
  {
   "cell_type": "markdown",
   "metadata": {},
   "source": [
    "# Para 4 Clusters"
   ]
  },
  {
   "cell_type": "code",
   "execution_count": 329,
   "metadata": {},
   "outputs": [
    {
     "name": "stdout",
     "output_type": "stream",
     "text": [
      "[2 2 2 2 2 2 2 2 2 2 2 2 2 2 2 2 2 2 2 2 2 2 2 2 2 2 2 2 2 2 2 2 2 2 2 1 1\n",
      " 1 3 1 3 1 3 1 3 3 1 3 1 3 1 1 3 1 3 1 3 1 3 3 1 1 1 1 3 3 3 3 1 1 0 1 0 0\n",
      " 0 0 1 0 0 0 0 0 0 0 0 0 0 0 0 1 0 0 0 1 0 0 1 1 0 1 0 0 0 1 1]\n"
     ]
    },
    {
     "data": {
      "image/png": "[encoded data removed]",
      "text/plain": [
       "<Figure size 432x288 with 1 Axes>"
      ]
     },
     "metadata": {
      "needs_background": "light"
     },
     "output_type": "display_data"
    },
    {
     "name": "stdout",
     "output_type": "stream",
     "text": [
      "[1, 1, 1, 1, 1, 1, 1, 1, 1, 1, 1, 1, 1, 1, 1, 1, 1, 1, 1, 1, 1, 1, 1, 1, 1, 1, 1, 1, 1, 1, 1, 1, 1, 1, 1, 2, 2, 2, 2, 2, 2, 2, 2, 2, 2, 2, 2, 2, 2, 2, 2, 2, 2, 2, 2, 2, 2, 2, 2, 2, 2, 2, 2, 2, 2, 2, 2, 2, 2, 2, 3, 2, 3, 3, 3, 3, 2, 3, 3, 3, 3, 3, 3, 3, 3, 3, 3, 3, 3, 2, 3, 3, 3, 2, 3, 3, 2, 2, 3, 2, 3, 3, 3, 2, 2]\n",
      "Error de entrenamiento 8.57\n",
      "[[  0.   0. 100.   0.]\n",
      " [  0.   0. 100.   0.]\n",
      " [  0.   0.  99.   0.]\n",
      " [  0.   0. 100.   0.]\n",
      " [  0.   0. 100.   0.]\n",
      " [  1.   1.  96.   2.]\n",
      " [  0.   0. 100.   0.]\n",
      " [  0.   0. 100.   0.]\n",
      " [  0.   0. 100.   0.]\n",
      " [  0.   0.  98.   1.]\n",
      " [  0.   0. 100.   0.]\n",
      " [  0.   0. 100.   0.]\n",
      " [  0.   0.  98.   1.]\n",
      " [  1.   1.  97.   2.]\n",
      " [  0.   0.  99.   1.]\n",
      " [  0.   1.  97.   2.]\n",
      " [  0.   1.  97.   2.]\n",
      " [  0.   0. 100.   0.]\n",
      " [  0.   0.  99.   1.]\n",
      " [  0.   0. 100.   0.]\n",
      " [  0.   0.  99.   1.]\n",
      " [  0.   1.  97.   2.]\n",
      " [  1.   1.  97.   2.]\n",
      " [  1.   3.  91.   6.]\n",
      " [  0.   1.  97.   2.]\n",
      " [  0.   0. 100.   0.]\n",
      " [  0.   1.  97.   2.]\n",
      " [  0.   0. 100.   0.]\n",
      " [  0.   0. 100.   0.]\n",
      " [  0.   0. 100.   0.]\n",
      " [  0.   0. 100.   0.]\n",
      " [  0.   1.  97.   2.]\n",
      " [  0.   0.  98.   1.]\n",
      " [  0.   0. 100.   0.]\n",
      " [  0.   0.  98.   1.]\n",
      " [  3.  82.   1.  14.]\n",
      " [  2.  88.   1.   9.]\n",
      " [  1.  97.   0.   2.]\n",
      " [  2.  11.   1.  86.]\n",
      " [  2.  93.   0.   5.]\n",
      " [  4.  47.   1.  48.]\n",
      " [  1.  98.   0.   1.]\n",
      " [  3.  10.   6.  81.]\n",
      " [  4.  54.   2.  40.]\n",
      " [  4.  26.   2.  69.]\n",
      " [  2.   7.   3.  87.]\n",
      " [  5.  64.   1.  30.]\n",
      " [  1.   6.   1.  92.]\n",
      " [  3.  82.   1.  14.]\n",
      " [  2.  10.   2.  86.]\n",
      " [  4.  63.   1.  32.]\n",
      " [  2.  88.   1.   9.]\n",
      " [  2.   7.   2.  90.]\n",
      " [  2.  88.   1.   9.]\n",
      " [  0.   1.   0.  99.]\n",
      " [ 15.  76.   1.   8.]\n",
      " [  2.  11.   1.  86.]\n",
      " [  1.  97.   0.   2.]\n",
      " [  5.  42.   2.  51.]\n",
      " [  3.  29.   1.  66.]\n",
      " [  4.  63.   1.  32.]\n",
      " [  3.  85.   1.  11.]\n",
      " [  8.  87.   1.   4.]\n",
      " [  2.  88.   1.   9.]\n",
      " [  2.   7.   3.  87.]\n",
      " [  0.   1.   0.  98.]\n",
      " [  1.   5.   2.  91.]\n",
      " [  0.   1.   0.  99.]\n",
      " [  4.  92.   0.   3.]\n",
      " [  2.  88.   1.   9.]\n",
      " [ 82.  11.   1.   5.]\n",
      " [ 43.  48.   1.   8.]\n",
      " [100.   0.   0.   0.]\n",
      " [ 55.  37.   1.   7.]\n",
      " [ 98.   1.   0.   1.]\n",
      " [ 86.   9.   1.   4.]\n",
      " [  6.  85.   1.   8.]\n",
      " [ 71.  21.   1.   7.]\n",
      " [ 64.  28.   1.   6.]\n",
      " [ 82.  11.   2.   5.]\n",
      " [ 60.  32.   1.   7.]\n",
      " [ 57.  36.   1.   6.]\n",
      " [ 92.   6.   0.   2.]\n",
      " [ 53.  37.   1.   8.]\n",
      " [ 72.  18.   2.   7.]\n",
      " [ 82.  13.   1.   4.]\n",
      " [ 49.  43.   1.   7.]\n",
      " [ 84.  10.   1.   4.]\n",
      " [ 79.  13.   2.   6.]\n",
      " [  2.  94.   0.   3.]\n",
      " [ 92.   5.   1.   2.]\n",
      " [ 48.  42.   2.   9.]\n",
      " [ 81.  13.   1.   5.]\n",
      " [ 17.  75.   1.   7.]\n",
      " [ 98.   1.   0.   0.]\n",
      " [ 69.  23.   1.   6.]\n",
      " [ 15.  76.   1.   8.]\n",
      " [ 17.  75.   1.   7.]\n",
      " [ 96.   3.   0.   1.]\n",
      " [ 34.  53.   2.  11.]\n",
      " [ 85.  11.   1.   3.]\n",
      " [ 88.   8.   1.   3.]\n",
      " [ 95.   4.   0.   1.]\n",
      " [  4.  91.   0.   5.]\n",
      " [ 17.  65.   2.  16.]] 2\n"
     ]
    }
   ],
   "source": [
    "#Datos de entrenamiento normalizados con los dos descriptores seleccionados\n",
    "x = df_TN.iloc[:, [2, 3]].values\n",
    "\n",
    "fcmean = FCM(n_clusters=4,m = 2.0, n_init=10, random_state=0)      #Parámetros para el algoritmo \n",
    "y_fcmeans = fcmean.fit(x)               #Entrenamiento para hallar los centros\n",
    "r_fcmeans = fcmean.predict(x)           #Obtener la clasificación de los datos de entrenamiento\n",
    "\n",
    "print(r_fcmeans)                # Se muestra la clasificación resultante de los datos de entrenamiento\n",
    "\n",
    "fig = plt.figure()\n",
    "ax1 = fig.add_subplot(111)\n",
    "# Visualización delos grupos\n",
    "ax1.scatter(x[r_fcmeans == 2, 0], x[r_fcmeans == 2, 1], c='purple', marker='o', label = 'Iris-setosa')\n",
    "ax1.scatter(x[r_fcmeans == 1, 0], x[r_fcmeans == 1, 1], c='orange', marker='x', label = 'Iris-versicolour')\n",
    "ax1.scatter(x[r_fcmeans == 3, 0], x[r_fcmeans == 3, 1], c='black', marker='*', label = 'Iris-versicolour')\n",
    "ax1.scatter(x[r_fcmeans == 0, 0], x[r_fcmeans == 0, 1], c='green', marker='*', label = 'Iris-virginica')\n",
    "\n",
    "# Visualización de los centros de cada grupo\n",
    "ax1.scatter(fcmean.centers[:, 0], fcmean.centers[:, 1], s = 100, c = 'red', label = 'Centros')\n",
    "ax1.set_xlabel('X2')\n",
    "ax1.set_ylabel('X3')\n",
    "ax1.set_title(\"4 Grupos FCM\")\n",
    "ax1.legend()\n",
    "\n",
    "plt.show()\n",
    "\n",
    "#Interpretación de la clasificación (El algoritmo le asigna en orden diferente)\n",
    "salida = []\n",
    "for i in r_fcmeans:\n",
    "    if i == 2:\n",
    "        salida.append(1)\n",
    "    elif i == 1 or i == 3:\n",
    "        salida.append(2)\n",
    "    else:\n",
    "        salida.append(3)\n",
    "\n",
    "print(salida)\n",
    "print(\"Error de entrenamiento\", error(salida, etiquetas))\n",
    "\n",
    "# Matriz de grados de pertenecia\n",
    "pert_fcmeans = fcmean.soft_predict(x)\n",
    "print(np.round(pert_fcmeans * 100), 2)\n"
   ]
  },
  {
   "cell_type": "code",
   "execution_count": 330,
   "metadata": {},
   "outputs": [
    {
     "name": "stdout",
     "output_type": "stream",
     "text": [
      "[2 2 2 2 2 2 2 2 2 2 2 2 2 2 2 1 1 3 3 3 3 1 3 3 3 3 3 3 3 3 0 0 0 1 0 0 0\n",
      " 1 0 0 0 1 0 0 1]\n"
     ]
    },
    {
     "data": {
      "image/png": "[encoded data removed]",
      "text/plain": [
       "<Figure size 432x288 with 1 Axes>"
      ]
     },
     "metadata": {
      "needs_background": "light"
     },
     "output_type": "display_data"
    },
    {
     "name": "stdout",
     "output_type": "stream",
     "text": [
      "[1, 1, 1, 1, 1, 1, 1, 1, 1, 1, 1, 1, 1, 1, 1, 2, 2, 2, 2, 2, 2, 2, 2, 2, 2, 2, 2, 2, 2, 2, 3, 3, 3, 2, 3, 3, 3, 2, 3, 3, 3, 2, 3, 3, 2]\n",
      "8.89\n",
      "[[  0.   0.  99.   1.]\n",
      " [  0.   0.  99.   0.]\n",
      " [  0.   0.  98.   1.]\n",
      " [  0.   0.  99.   0.]\n",
      " [  0.   0. 100.   0.]\n",
      " [  0.   0.  99.   0.]\n",
      " [  0.   0.  99.   0.]\n",
      " [  0.   0.  99.   0.]\n",
      " [  2.   4.  84.  10.]\n",
      " [  1.   2.  93.   4.]\n",
      " [  0.   0. 100.   0.]\n",
      " [  0.   0. 100.   0.]\n",
      " [  0.   0. 100.   0.]\n",
      " [  0.   0. 100.   0.]\n",
      " [  0.   0. 100.   0.]\n",
      " [  3.  91.   0.   6.]\n",
      " [  1.  97.   0.   2.]\n",
      " [  4.  38.   1.  57.]\n",
      " [  2.  15.   1.  82.]\n",
      " [  2.  11.   1.  86.]\n",
      " [  3.  21.   1.  75.]\n",
      " [  3.  78.   1.  18.]\n",
      " [  0.   2.   0.  98.]\n",
      " [  3.  10.   6.  81.]\n",
      " [  2.  22.   1.  75.]\n",
      " [  1.   8.   1.  90.]\n",
      " [  2.  22.   1.  75.]\n",
      " [  3.  29.   1.  66.]\n",
      " [  4.  13.   9.  74.]\n",
      " [  2.  15.   1.  82.]\n",
      " [ 93.   5.   1.   2.]\n",
      " [ 85.  10.   1.   4.]\n",
      " [ 49.  43.   1.   7.]\n",
      " [ 15.  76.   1.   8.]\n",
      " [ 88.   9.   1.   3.]\n",
      " [ 85.  10.   1.   4.]\n",
      " [ 74.  18.   2.   6.]\n",
      " [ 43.  48.   1.   8.]\n",
      " [ 93.   4.   0.   2.]\n",
      " [ 81.  12.   2.   5.]\n",
      " [ 78.  15.   1.   5.]\n",
      " [ 37.  53.   1.   8.]\n",
      " [ 66.  27.   1.   6.]\n",
      " [ 85.  10.   1.   4.]\n",
      " [ 24.  67.   1.   7.]] 2\n"
     ]
    }
   ],
   "source": [
    "###############     Prueba   ################\n",
    "\n",
    "#Datos de prueba normalizadoscon los dos descriptores seleccionados\n",
    "prueba = df_PN.iloc[:, [2, 3]].values\n",
    "\n",
    "r_fcmeans = fcmean.predict(prueba)      #Clasificación de los datos de prueba en base a los centros obtenidos\n",
    "print(r_fcmeans)                        #Se muestra el resultado de la clasificación\n",
    "\n",
    "fig = plt.figure()\n",
    "ax1 = fig.add_subplot(111)\n",
    "# Visualización delos grupos\n",
    "ax1.scatter(prueba[r_fcmeans == 2, 0], prueba[r_fcmeans == 2, 1], c='purple', marker='o', label = 'Iris-setosa')\n",
    "ax1.scatter(prueba[r_fcmeans == 1, 0], prueba[r_fcmeans == 1, 1], c='orange', marker='x', label = 'Iris-versicolour')\n",
    "ax1.scatter(prueba[r_fcmeans == 3, 0], prueba[r_fcmeans == 3, 1], c='black', marker='*', label = 'Iris-versicolour')\n",
    "ax1.scatter(prueba[r_fcmeans == 0, 0], prueba[r_fcmeans == 0, 1], c='green', marker='*', label = 'Iris-virginica')\n",
    "\n",
    "# Visualización de los centros de cada grupo\n",
    "ax1.scatter(fcmean.centers[:, 0], fcmean.centers[:, 1], s = 100, c = 'red', label = 'Centros')\n",
    "ax1.set_xlabel('X2')\n",
    "ax1.set_ylabel('X3')\n",
    "ax1.set_title(\"Prueba 4 Grupos FCM\")\n",
    "ax1.legend()\n",
    "\n",
    "plt.show()\n",
    "\n",
    "#Interpretación de la clasificación (El algoritmo le asigna en orden diferente)\n",
    "salida = []\n",
    "for i in r_fcmeans:\n",
    "    if i == 2:\n",
    "        salida.append(1)\n",
    "    elif i == 1 or i == 3:\n",
    "        salida.append(2)\n",
    "    else:\n",
    "        salida.append(3)\n",
    "\n",
    "print(salida)\n",
    "\n",
    "print(error(salida, etiquetas_prueba))\n",
    "\n",
    "# Matriz de grados de pertenecia\n",
    "pert_fcmeans = fcmean.soft_predict(prueba)\n",
    "print(np.round(pert_fcmeans * 100), 2)"
   ]
  },
  {
   "cell_type": "markdown",
   "metadata": {},
   "source": [
    "# Para 5 clusters"
   ]
  },
  {
   "cell_type": "code",
   "execution_count": 331,
   "metadata": {},
   "outputs": [
    {
     "name": "stdout",
     "output_type": "stream",
     "text": [
      "[3 3 3 3 3 3 3 3 3 3 3 3 3 3 3 3 3 3 3 3 3 3 3 3 3 3 3 3 3 3 3 3 3 3 3 4 4\n",
      " 4 2 4 4 4 2 4 4 2 4 2 4 2 4 4 2 4 2 0 2 4 4 4 4 4 0 4 2 2 2 2 4 4 1 0 1 0\n",
      " 1 1 4 1 0 1 0 0 1 0 1 1 0 1 1 4 1 0 1 0 1 0 0 0 1 0 1 1 1 4 4]\n"
     ]
    },
    {
     "data": {
      "image/png": "[encoded data removed]",
      "text/plain": [
       "<Figure size 432x288 with 1 Axes>"
      ]
     },
     "metadata": {
      "needs_background": "light"
     },
     "output_type": "display_data"
    },
    {
     "name": "stdout",
     "output_type": "stream",
     "text": [
      "[1, 1, 1, 1, 1, 1, 1, 1, 1, 1, 1, 1, 1, 1, 1, 1, 1, 1, 1, 1, 1, 1, 1, 1, 1, 1, 1, 1, 1, 1, 1, 1, 1, 1, 1, 2, 2, 2, 2, 2, 2, 2, 2, 2, 2, 2, 2, 2, 2, 2, 2, 2, 2, 2, 2, 3, 2, 2, 2, 2, 2, 2, 3, 2, 2, 2, 2, 2, 2, 2, 3, 3, 3, 3, 3, 3, 2, 3, 3, 3, 3, 3, 3, 3, 3, 3, 3, 3, 3, 2, 3, 3, 3, 3, 3, 3, 3, 3, 3, 3, 3, 3, 3, 2, 2]\n",
      "Error de entrenamiento 5.71\n",
      "[[  0.   0.   0. 100.   0.]\n",
      " [  0.   0.   0. 100.   0.]\n",
      " [  0.   0.   0.  99.   0.]\n",
      " [  0.   0.   0. 100.   0.]\n",
      " [  0.   0.   0. 100.   0.]\n",
      " [  1.   1.   3.  95.   1.]\n",
      " [  0.   0.   0.  99.   0.]\n",
      " [  0.   0.   0. 100.   0.]\n",
      " [  0.   0.   0. 100.   0.]\n",
      " [  0.   0.   1.  98.   1.]\n",
      " [  0.   0.   0. 100.   0.]\n",
      " [  0.   0.   0.  99.   0.]\n",
      " [  0.   0.   1.  98.   1.]\n",
      " [  1.   0.   2.  96.   1.]\n",
      " [  0.   0.   1.  98.   0.]\n",
      " [  1.   0.   2.  96.   1.]\n",
      " [  1.   0.   2.  96.   1.]\n",
      " [  0.   0.   0.  99.   0.]\n",
      " [  0.   0.   1.  98.   0.]\n",
      " [  0.   0.   0.  99.   0.]\n",
      " [  0.   0.   1.  99.   0.]\n",
      " [  1.   0.   2.  96.   1.]\n",
      " [  1.   0.   2.  96.   1.]\n",
      " [  2.   1.   6.  88.   3.]\n",
      " [  1.   0.   2.  96.   1.]\n",
      " [  0.   0.   0.  99.   0.]\n",
      " [  1.   0.   2.  96.   1.]\n",
      " [  0.   0.   0. 100.   0.]\n",
      " [  0.   0.   0. 100.   0.]\n",
      " [  0.   0.   0.  99.   0.]\n",
      " [  0.   0.   0.  99.   0.]\n",
      " [  1.   0.   2.  96.   1.]\n",
      " [  0.   0.   1.  98.   1.]\n",
      " [  0.   0.   0. 100.   0.]\n",
      " [  0.   0.   1.  98.   1.]\n",
      " [  2.   0.   2.   0.  96.]\n",
      " [  2.   0.   2.   0.  96.]\n",
      " [  8.   2.   3.   0.  87.]\n",
      " [  5.   2.  61.   1.  31.]\n",
      " [  1.   0.   1.   0.  98.]\n",
      " [  5.   2.  18.   1.  75.]\n",
      " [ 13.   3.   4.   0.  80.]\n",
      " [  3.   2.  83.   4.   8.]\n",
      " [  5.   2.  14.   1.  78.]\n",
      " [  8.   3.  44.   2.  44.]\n",
      " [  2.   1.  90.   2.   5.]\n",
      " [  8.   2.  13.   1.  76.]\n",
      " [  2.   1.  91.   1.   6.]\n",
      " [  2.   0.   2.   0.  96.]\n",
      " [  5.   2.  74.   2.  17.]\n",
      " [  3.   1.   7.   0.  88.]\n",
      " [  2.   0.   2.   0.  96.]\n",
      " [  2.   1.  87.   1.   8.]\n",
      " [  2.   0.   2.   0.  96.]\n",
      " [  0.   0.  99.   0.   1.]\n",
      " [ 69.   6.   4.   1.  21.]\n",
      " [  5.   2.  61.   1.  31.]\n",
      " [  8.   2.   3.   0.  87.]\n",
      " [  8.   3.  28.   2.  59.]\n",
      " [  6.   2.  32.   1.  59.]\n",
      " [  3.   1.   7.   0.  88.]\n",
      " [  3.   1.   3.   0.  93.]\n",
      " [ 61.   6.   4.   1.  29.]\n",
      " [  2.   0.   2.   0.  96.]\n",
      " [  2.   1.  90.   2.   5.]\n",
      " [  0.   0. 100.   0.   0.]\n",
      " [  1.   0.  95.   1.   3.]\n",
      " [  1.   1.  90.   1.   7.]\n",
      " [ 37.   6.   5.   1.  51.]\n",
      " [  2.   0.   2.   0.  96.]\n",
      " [ 16.  74.   3.   1.   6.]\n",
      " [ 96.   2.   0.   0.   2.]\n",
      " [  6.  92.   0.   0.   1.]\n",
      " [ 77.  13.   2.   0.   8.]\n",
      " [  6.  93.   0.   0.   1.]\n",
      " [ 13.  80.   2.   1.   4.]\n",
      " [ 29.   6.   8.   1.  57.]\n",
      " [ 36.  46.   5.   1.  12.]\n",
      " [ 61.  24.   3.   1.  11.]\n",
      " [ 16.  75.   3.   1.   6.]\n",
      " [ 84.   9.   2.   0.   5.]\n",
      " [ 98.   1.   0.   0.   1.]\n",
      " [ 41.  51.   2.   0.   5.]\n",
      " [ 81.  10.   2.   0.   7.]\n",
      " [ 34.  49.   5.   1.  11.]\n",
      " [ 32.  56.   3.   1.   8.]\n",
      " [ 85.   8.   1.   0.   6.]\n",
      " [ 13.  80.   2.   1.   5.]\n",
      " [ 16.  73.   3.   1.   7.]\n",
      " [ 13.   3.   5.   1.  79.]\n",
      " [ 13.  82.   1.   0.   3.]\n",
      " [ 77.  11.   3.   1.   9.]\n",
      " [ 19.  70.   3.   1.   7.]\n",
      " [ 78.   5.   3.   0.  14.]\n",
      " [ 20.  76.   1.   0.   3.]\n",
      " [ 48.  36.   4.   1.  12.]\n",
      " [ 69.   6.   4.   1.  21.]\n",
      " [ 78.   5.   3.   0.  14.]\n",
      " [ 31.  63.   1.   0.   4.]\n",
      " [ 49.  18.   7.   1.  25.]\n",
      " [ 33.  56.   3.   1.   8.]\n",
      " [ 16.  76.   2.   1.   5.]\n",
      " [ 19.  76.   1.   0.   3.]\n",
      " [ 19.   4.   6.   1.  70.]\n",
      " [ 30.  12.  12.   2.  45.]] 2\n"
     ]
    }
   ],
   "source": [
    "#Datos de entrenamiento normalizados con los dos descriptores seleccionados\n",
    "x = df_TN.iloc[:, [ 2, 3]].values\n",
    "\n",
    "fcmean = FCM(n_clusters=5, m = 2.0, n_init=10, random_state=0)      #Parámetros para el algoritmo \n",
    "y_fcmeans = fcmean.fit(x)               #Entrenamiento para hallar los centros\n",
    "r_fcmeans = fcmean.predict(x)           #Obtener la clasificación de los datos de entrenamiento\n",
    "\n",
    "print(r_fcmeans)                        # Se muestra la clasificación resultante de los datos de entrenamiento\n",
    "\n",
    "fig = plt.figure()\n",
    "ax1 = fig.add_subplot(111)\n",
    "# Visualización delos grupos\n",
    "ax1.scatter(x[r_fcmeans == 3, 0], x[r_fcmeans == 3, 1], c='purple', marker='o', label = 'Iris-setosa')\n",
    "ax1.scatter(x[r_fcmeans == 2, 0], x[r_fcmeans == 2, 1], c='orange', marker='x', label = 'Iris-versicolour')\n",
    "ax1.scatter(x[r_fcmeans == 4, 0], x[r_fcmeans == 4, 1], c='green', marker='*', label = 'Iris-versicolour')\n",
    "ax1.scatter(x[r_fcmeans == 1, 0], x[r_fcmeans == 1, 1], c='blue', marker='o', label = 'Iris-virginica')\n",
    "ax1.scatter(x[r_fcmeans == 0, 0], x[r_fcmeans == 0, 1], c='black', marker='+', label = 'Iris-virginica')\n",
    "\n",
    "# Visualización de los centros de cada grupo\n",
    "ax1.scatter(fcmean.centers[:, 0], fcmean.centers[:, 1], s = 100, c = 'red', label = 'Centros')\n",
    "ax1.set_xlabel('X2')\n",
    "ax1.set_ylabel('X3')\n",
    "ax1.set_title(\"5 Grupos FCM\")\n",
    "ax1.legend()\n",
    "\n",
    "plt.show()\n",
    "\n",
    "#Interpretación de la clasificación (El algoritmo le asigna en orden diferente)\n",
    "salida = []\n",
    "for i in r_fcmeans:\n",
    "    if  i == 3: \n",
    "        salida.append(1)\n",
    "    elif i == 2 or i == 4:\n",
    "        salida.append(2)\n",
    "    else:\n",
    "        salida.append(3)\n",
    "\n",
    "print(salida)\n",
    "print(\"Error de entrenamiento\", error(salida, etiquetas))\n",
    "\n",
    "# Matriz de grados de pertenecia\n",
    "pert_fcmeans = fcmean.soft_predict(x)\n",
    "print(np.round(pert_fcmeans * 100), 2)"
   ]
  },
  {
   "cell_type": "code",
   "execution_count": 333,
   "metadata": {},
   "outputs": [
    {
     "name": "stdout",
     "output_type": "stream",
     "text": [
      "[3 3 3 3 3 3 3 3 3 3 3 3 3 3 3 4 4 4 2 2 2 4 2 2 4 2 4 4 2 2 1 1 0 0 0 1 1\n",
      " 0 1 1 1 0 0 1 0]\n"
     ]
    },
    {
     "data": {
      "image/png": "[encoded data removed]",
      "text/plain": [
       "<Figure size 432x288 with 1 Axes>"
      ]
     },
     "metadata": {
      "needs_background": "light"
     },
     "output_type": "display_data"
    },
    {
     "name": "stdout",
     "output_type": "stream",
     "text": [
      "[1, 1, 1, 1, 1, 1, 1, 1, 1, 1, 1, 1, 1, 1, 1, 2, 2, 2, 2, 2, 2, 2, 2, 2, 2, 2, 2, 2, 2, 2, 3, 3, 3, 3, 3, 3, 3, 3, 3, 3, 3, 3, 3, 3, 3]\n",
      "0.0\n",
      "[[  0.   0.   1.  98.   0.]\n",
      " [  0.   0.   0.  99.   0.]\n",
      " [  0.   0.   1.  98.   1.]\n",
      " [  0.   0.   0.  99.   0.]\n",
      " [  0.   0.   0. 100.   0.]\n",
      " [  0.   0.   1.  99.   0.]\n",
      " [  0.   0.   1.  99.   0.]\n",
      " [  0.   0.   0.  99.   0.]\n",
      " [  3.   2.  10.  80.   5.]\n",
      " [  1.   1.   5.  91.   2.]\n",
      " [  0.   0.   0.  99.   0.]\n",
      " [  0.   0.   0.  99.   0.]\n",
      " [  0.   0.   0. 100.   0.]\n",
      " [  0.   0.   0. 100.   0.]\n",
      " [  0.   0.   0. 100.   0.]\n",
      " [ 11.   2.   5.   1.  81.]\n",
      " [  1.   0.   1.   0.  98.]\n",
      " [  5.   2.  24.   1.  68.]\n",
      " [  5.   2.  52.   1.  40.]\n",
      " [  5.   2.  61.   1.  31.]\n",
      " [  6.   2.  47.   1.  43.]\n",
      " [  1.   0.   2.   0.  96.]\n",
      " [  2.   1.  85.   1.  11.]\n",
      " [  3.   2.  83.   4.   8.]\n",
      " [  6.   2.  42.   1.  50.]\n",
      " [  4.   2.  68.   1.  26.]\n",
      " [  6.   2.  42.   1.  50.]\n",
      " [  6.   2.  32.   1.  59.]\n",
      " [  5.   3.  72.   7.  13.]\n",
      " [  5.   2.  52.   1.  40.]\n",
      " [  5.  92.   1.   0.   2.]\n",
      " [ 20.  71.   3.   1.   6.]\n",
      " [ 85.   8.   1.   0.   6.]\n",
      " [ 69.   6.   4.   1.  21.]\n",
      " [ 51.  41.   2.   0.   6.]\n",
      " [ 20.  71.   3.   1.   6.]\n",
      " [ 39.  46.   4.   1.  10.]\n",
      " [ 96.   2.   0.   0.   2.]\n",
      " [  7.  90.   1.   0.   2.]\n",
      " [ 20.  69.   3.   1.   7.]\n",
      " [ 36.  50.   4.   1.   9.]\n",
      " [ 91.   4.   1.   0.   4.]\n",
      " [ 84.  10.   1.   0.   4.]\n",
      " [ 27.  62.   3.   1.   6.]\n",
      " [ 92.   3.   1.   0.   5.]] 2\n"
     ]
    }
   ],
   "source": [
    "###############     Prueba   ################\n",
    "\n",
    "#Datos de prueba normalizadoscon los dos descriptores seleccionados\n",
    "prueba = df_PN.iloc[:, [2, 3]].values\n",
    "\n",
    "r_fcmeans = fcmean.predict(prueba)          #Clasificación de los datos de prueba en base a los centros obtenidos\n",
    "print(r_fcmeans)                            #Se muestra el resultado de la clasificación\n",
    "\n",
    "fig = plt.figure()\n",
    "ax1 = fig.add_subplot(111)\n",
    "# Visualización delos grupos\n",
    "ax1.scatter(prueba[r_fcmeans == 3, 0], prueba[r_fcmeans == 3, 1], c='purple', marker='o', label = 'Iris-setosa')\n",
    "ax1.scatter(prueba[r_fcmeans == 2, 0], prueba[r_fcmeans == 2, 1], c='orange', marker='x', label = 'Iris-versicolour')\n",
    "ax1.scatter(prueba[r_fcmeans == 4, 0], prueba[r_fcmeans == 4, 1], c='green', marker='*', label = 'Iris-versicolour')\n",
    "ax1.scatter(prueba[r_fcmeans == 1, 0], prueba[r_fcmeans == 1, 1], c='blue', marker='o', label = 'Iris-virginica')\n",
    "ax1.scatter(prueba[r_fcmeans == 0, 0], prueba[r_fcmeans == 0, 1], c='black', marker='+', label = 'Iris-virginica')\n",
    "\n",
    "# Visualización de los centros de cada grupo\n",
    "ax1.scatter(fcmean.centers[:, 0], fcmean.centers[:, 1], s = 100, c = 'red', label = 'Centros')\n",
    "ax1.set_xlabel('X2')\n",
    "ax1.set_ylabel('X3')\n",
    "ax1.set_title(\"Prueba 5 Grupos FCM\")\n",
    "ax1.legend()\n",
    "\n",
    "plt.show()\n",
    "\n",
    "#Interpretación de la clasificación (El algoritmo le asigna en orden diferente)\n",
    "salida = []\n",
    "for i in r_fcmeans:\n",
    "    if  i == 3: \n",
    "        salida.append(1)\n",
    "    elif i == 2 or i == 4:\n",
    "        salida.append(2)\n",
    "    else:\n",
    "        salida.append(3)\n",
    "\n",
    "print(salida)\n",
    "\n",
    "print(error(salida, etiquetas_prueba))\n",
    "\n",
    "# Matriz de grados de pertenecia\n",
    "pert_fcmeans = fcmean.soft_predict(prueba)\n",
    "print(np.round(pert_fcmeans * 100), 2)"
   ]
  },
  {
   "cell_type": "markdown",
   "metadata": {},
   "source": [
    "# Para 6 clusters"
   ]
  },
  {
   "cell_type": "code",
   "execution_count": 334,
   "metadata": {},
   "outputs": [
    {
     "name": "stdout",
     "output_type": "stream",
     "text": [
      "[0 0 0 0 0 5 5 0 0 0 0 0 0 0 0 5 5 5 5 5 0 5 0 5 0 0 5 0 0 0 0 5 0 0 0 1 1\n",
      " 1 3 1 1 1 3 1 3 3 1 3 1 3 1 1 3 1 3 2 3 1 1 1 1 1 2 1 3 3 3 3 1 1 4 2 4 2\n",
      " 4 4 1 4 2 4 2 2 4 2 4 4 2 4 4 1 4 2 4 2 4 2 2 2 4 2 4 4 4 1 1]\n"
     ]
    },
    {
     "data": {
      "image/png": "[encoded data removed]",
      "text/plain": [
       "<Figure size 432x288 with 1 Axes>"
      ]
     },
     "metadata": {
      "needs_background": "light"
     },
     "output_type": "display_data"
    },
    {
     "name": "stdout",
     "output_type": "stream",
     "text": [
      "[1, 1, 1, 1, 1, 1, 1, 1, 1, 1, 1, 1, 1, 1, 1, 1, 1, 1, 1, 1, 1, 1, 1, 1, 1, 1, 1, 1, 1, 1, 1, 1, 1, 1, 1, 2, 2, 2, 2, 2, 2, 2, 2, 2, 2, 2, 2, 2, 2, 2, 2, 2, 2, 2, 2, 3, 2, 2, 2, 2, 2, 2, 3, 2, 2, 2, 2, 2, 2, 2, 3, 3, 3, 3, 3, 3, 2, 3, 3, 3, 3, 3, 3, 3, 3, 3, 3, 3, 3, 2, 3, 3, 3, 3, 3, 3, 3, 3, 3, 3, 3, 3, 3, 2, 2]\n",
      "Error de entrenamiento 5.71\n",
      "[[ 98.   0.   0.   0.   0.   2.]\n",
      " [ 98.   0.   0.   0.   0.   2.]\n",
      " [ 90.   0.   0.   0.   0.   9.]\n",
      " [ 98.   0.   0.   0.   0.   2.]\n",
      " [ 98.   0.   0.   0.   0.   2.]\n",
      " [  8.   0.   0.   0.   0.  91.]\n",
      " [ 39.   0.   0.   0.   0.  60.]\n",
      " [ 98.   0.   0.   0.   0.   2.]\n",
      " [ 98.   0.   0.   0.   0.   2.]\n",
      " [ 91.   0.   0.   0.   0.   9.]\n",
      " [ 98.   0.   0.   0.   0.   2.]\n",
      " [ 89.   0.   0.   0.   0.  10.]\n",
      " [ 91.   0.   0.   0.   0.   9.]\n",
      " [ 78.   1.   0.   1.   0.  20.]\n",
      " [ 81.   0.   0.   0.   0.  18.]\n",
      " [  2.   0.   0.   0.   0.  98.]\n",
      " [ 16.   0.   0.   1.   0.  83.]\n",
      " [ 39.   0.   0.   0.   0.  60.]\n",
      " [ 30.   0.   0.   1.   0.  68.]\n",
      " [ 31.   0.   0.   0.   0.  68.]\n",
      " [ 77.   0.   0.   1.   0.  22.]\n",
      " [  2.   0.   0.   0.   0.  98.]\n",
      " [ 68.   1.   0.   1.   0.  30.]\n",
      " [ 15.   1.   0.   1.   0.  83.]\n",
      " [ 60.   1.   0.   1.   0.  37.]\n",
      " [ 89.   0.   0.   0.   0.  10.]\n",
      " [  2.   0.   0.   0.   0.  98.]\n",
      " [ 98.   0.   0.   0.   0.   2.]\n",
      " [ 98.   0.   0.   0.   0.   2.]\n",
      " [ 89.   0.   0.   0.   0.  10.]\n",
      " [ 89.   0.   0.   0.   0.  10.]\n",
      " [  2.   0.   0.   0.   0.  98.]\n",
      " [ 91.   0.   0.   0.   0.   9.]\n",
      " [ 98.   0.   0.   0.   0.   2.]\n",
      " [ 91.   0.   0.   0.   0.   9.]\n",
      " [  0.  95.   2.   2.   1.   0.]\n",
      " [  0.  96.   2.   2.   0.   0.]\n",
      " [  0.  87.   7.   3.   2.   0.]\n",
      " [  1.  30.   5.  61.   2.   1.]\n",
      " [  0.  98.   1.   1.   0.   0.]\n",
      " [  1.  73.   5.  18.   2.   1.]\n",
      " [  0.  79.  13.   4.   3.   0.]\n",
      " [  3.   8.   3.  79.   2.   5.]\n",
      " [  1.  77.   5.  14.   2.   1.]\n",
      " [  2.  42.   8.  43.   3.   2.]\n",
      " [  2.   5.   2.  88.   1.   2.]\n",
      " [  1.  75.   8.  13.   2.   1.]\n",
      " [  1.   5.   2.  90.   1.   1.]\n",
      " [  0.  95.   2.   2.   1.   0.]\n",
      " [  2.  17.   4.  73.   2.   2.]\n",
      " [  0.  87.   3.   8.   1.   0.]\n",
      " [  0.  96.   2.   2.   0.   0.]\n",
      " [  1.   8.   2.  86.   1.   1.]\n",
      " [  0.  96.   2.   2.   0.   0.]\n",
      " [  0.   1.   0.  99.   0.   0.]\n",
      " [  1.  21.  68.   4.   6.   1.]\n",
      " [  1.  30.   5.  61.   2.   1.]\n",
      " [  0.  87.   7.   3.   2.   0.]\n",
      " [  1.  57.   8.  28.   3.   2.]\n",
      " [  1.  58.   6.  32.   2.   1.]\n",
      " [  0.  87.   3.   8.   1.   0.]\n",
      " [  0.  92.   3.   3.   1.   0.]\n",
      " [  1.  29.  60.   4.   6.   1.]\n",
      " [  0.  96.   2.   2.   0.   0.]\n",
      " [  2.   5.   2.  88.   1.   2.]\n",
      " [  0.   0.   0. 100.   0.   0.]\n",
      " [  1.   3.   1.  94.   0.   1.]\n",
      " [  1.   6.   1.  90.   1.   1.]\n",
      " [  1.  51.  37.   5.   6.   1.]\n",
      " [  0.  96.   2.   2.   0.   0.]\n",
      " [  1.   6.  16.   3.  73.   1.]\n",
      " [  0.   2.  96.   0.   2.   0.]\n",
      " [  0.   1.   6.   0.  92.   0.]\n",
      " [  0.   8.  77.   2.  13.   0.]\n",
      " [  0.   1.   6.   0.  92.   0.]\n",
      " [  1.   4.  13.   2.  80.   1.]\n",
      " [  1.  57.  28.   8.   5.   1.]\n",
      " [  1.  12.  35.   5.  46.   1.]\n",
      " [  1.  10.  61.   3.  24.   1.]\n",
      " [  1.   6.  16.   3.  74.   1.]\n",
      " [  0.   5.  84.   1.   9.   0.]\n",
      " [  0.   1.  98.   0.   1.   0.]\n",
      " [  0.   5.  41.   2.  51.   0.]\n",
      " [  0.   7.  81.   2.  10.   0.]\n",
      " [  1.  10.  34.   5.  48.   2.]\n",
      " [  1.   8.  32.   3.  56.   1.]\n",
      " [  0.   6.  84.   1.   8.   0.]\n",
      " [  1.   5.  13.   2.  79.   1.]\n",
      " [  1.   7.  16.   3.  72.   1.]\n",
      " [  0.  78.  13.   5.   3.   1.]\n",
      " [  0.   3.  13.   1.  82.   0.]\n",
      " [  1.   9.  76.   3.  11.   1.]\n",
      " [  1.   7.  19.   3.  69.   1.]\n",
      " [  0.  14.  77.   3.   5.   0.]\n",
      " [  0.   3.  20.   1.  75.   0.]\n",
      " [  1.  12.  47.   4.  35.   1.]\n",
      " [  1.  21.  68.   4.   6.   1.]\n",
      " [  0.  14.  77.   3.   5.   0.]\n",
      " [  0.   4.  30.   1.  63.   0.]\n",
      " [  1.  25.  48.   7.  18.   1.]\n",
      " [  1.   8.  33.   3.  56.   1.]\n",
      " [  1.   5.  16.   2.  76.   1.]\n",
      " [  0.   3.  19.   1.  76.   0.]\n",
      " [  1.  70.  19.   6.   4.   1.]\n",
      " [  2.  45.  29.  11.  11.   2.]] 2\n"
     ]
    }
   ],
   "source": [
    "#Datos de entrenamiento normalizados con los dos descriptores seleccionados\n",
    "x = df_TN.iloc[:, [ 2, 3]].values\n",
    "\n",
    "fcmean = FCM(n_clusters=6, m = 2.0, n_init=10, random_state=0)      #Parámetros para el algoritmo \n",
    "y_fcmeans = fcmean.fit(x)                                           #Entrenamiento para hallar los centros\n",
    "r_fcmeans = fcmean.predict(x)                                       #Obtener la clasificación de los datos de entrenamiento\n",
    "\n",
    "print(r_fcmeans)                                    # Se muestra la clasificación resultante de los datos de entrenamiento\n",
    "\n",
    "fig = plt.figure()\n",
    "ax1 = fig.add_subplot(111)\n",
    "# Visualización de los grupos\n",
    "ax1.scatter(x[r_fcmeans == 5, 0], x[r_fcmeans == 5, 1], c='purple', marker='o', label = 'Iris-setosa')\n",
    "ax1.scatter(x[r_fcmeans == 0, 0], x[r_fcmeans == 0, 1], c='gray', marker='+', label = 'Iris-setosa')\n",
    "ax1.scatter(x[r_fcmeans == 1, 0], x[r_fcmeans == 1, 1], c='orange', marker='x', label = 'Iris-versicolour')\n",
    "ax1.scatter(x[r_fcmeans == 3, 0], x[r_fcmeans == 3, 1], c='green', marker='*', label = 'Iris-versicolour')\n",
    "ax1.scatter(x[r_fcmeans == 4, 0], x[r_fcmeans == 4, 1], c='blue', marker='o', label = 'Iris-virginica')\n",
    "ax1.scatter(x[r_fcmeans == 2, 0], x[r_fcmeans == 2, 1], c='black', marker='x', label = 'Iris-virginica')\n",
    "\n",
    "\n",
    "# Visualización de los centros de cada grupo\n",
    "ax1.scatter(fcmean.centers[:, 0], fcmean.centers[:, 1], s = 100, c = 'red', label = 'Centros')\n",
    "ax1.set_xlabel('X2')\n",
    "ax1.set_ylabel('X3')\n",
    "ax1.set_title(\"6 Grupos FCM\")\n",
    "ax1.legend()\n",
    "\n",
    "plt.show()\n",
    "\n",
    "#Interpretación de la clasificación (El algoritmo le asigna en orden diferente)\n",
    "salida = []\n",
    "for i in r_fcmeans:\n",
    "    if i == 5 or i == 0: \n",
    "        salida.append(1)\n",
    "    elif i == 1 or i == 3:\n",
    "        salida.append(2)\n",
    "    else:\n",
    "        salida.append(3)\n",
    "\n",
    "print(salida)\n",
    "print(\"Error de entrenamiento\", error(salida, etiquetas))\n",
    "\n",
    "# Matriz de grados de pertenecia\n",
    "pert_fcmeans = fcmean.soft_predict(x)\n",
    "print(np.round(pert_fcmeans * 100), 2)"
   ]
  },
  {
   "cell_type": "code",
   "execution_count": 335,
   "metadata": {},
   "outputs": [
    {
     "name": "stdout",
     "output_type": "stream",
     "text": [
      "[0 0 0 0 0 5 5 0 5 5 5 0 0 0 0 1 1 1 3 3 3 1 3 3 1 3 1 1 3 3 4 4 2 2 2 4 4\n",
      " 2 4 4 4 2 2 4 2]\n"
     ]
    },
    {
     "data": {
      "image/png": "[encoded data removed]",
      "text/plain": [
       "<Figure size 432x288 with 1 Axes>"
      ]
     },
     "metadata": {
      "needs_background": "light"
     },
     "output_type": "display_data"
    },
    {
     "name": "stdout",
     "output_type": "stream",
     "text": [
      "[1, 1, 1, 1, 1, 1, 1, 1, 1, 1, 1, 1, 1, 1, 1, 2, 2, 2, 2, 2, 2, 2, 2, 2, 2, 2, 2, 2, 2, 2, 3, 3, 3, 3, 3, 3, 3, 3, 3, 3, 3, 3, 3, 3, 3]\n",
      "0.0\n",
      "[[81.  0.  0.  0.  0. 18.]\n",
      " [90.  0.  0.  0.  0.  9.]\n",
      " [91.  0.  0.  0.  0.  9.]\n",
      " [90.  0.  0.  0.  0.  9.]\n",
      " [98.  0.  0.  0.  0.  2.]\n",
      " [46.  0.  0.  0.  0. 53.]\n",
      " [46.  0.  0.  0.  0. 53.]\n",
      " [90.  0.  0.  0.  0.  9.]\n",
      " [21.  2.  1.  3.  1. 73.]\n",
      " [21.  1.  0.  2.  0. 76.]\n",
      " [39.  0.  0.  0.  0. 60.]\n",
      " [89.  0.  0.  0.  0. 10.]\n",
      " [98.  0.  0.  0.  0.  2.]\n",
      " [98.  0.  0.  0.  0.  2.]\n",
      " [98.  0.  0.  0.  0.  2.]\n",
      " [ 0. 80. 11.  5.  2.  1.]\n",
      " [ 0. 98.  1.  1.  0.  0.]\n",
      " [ 1. 67.  5. 24.  2.  1.]\n",
      " [ 1. 38.  5. 52.  2.  1.]\n",
      " [ 1. 30.  5. 61.  2.  1.]\n",
      " [ 1. 42.  6. 47.  2.  2.]\n",
      " [ 0. 96.  1.  2.  0.  0.]\n",
      " [ 1. 10.  2. 86.  1.  1.]\n",
      " [ 3.  8.  3. 79.  2.  5.]\n",
      " [ 1. 48.  5. 42.  2.  1.]\n",
      " [ 1. 24.  4. 68.  2.  1.]\n",
      " [ 1. 48.  5. 42.  2.  1.]\n",
      " [ 1. 58.  6. 32.  2.  1.]\n",
      " [ 6. 12.  5. 66.  3.  8.]\n",
      " [ 1. 38.  5. 52.  2.  1.]\n",
      " [ 0.  2.  5.  1. 92.  0.]\n",
      " [ 1.  6. 19.  3. 71.  1.]\n",
      " [ 0.  6. 84.  1.  8.  0.]\n",
      " [ 1. 21. 68.  4.  6.  1.]\n",
      " [ 0.  6. 51.  2. 41.  1.]\n",
      " [ 1.  6. 19.  3. 71.  1.]\n",
      " [ 1. 10. 39.  4. 45.  1.]\n",
      " [ 0.  2. 96.  0.  2.  0.]\n",
      " [ 0.  2.  7.  1. 90.  0.]\n",
      " [ 1.  7. 20.  3. 68.  1.]\n",
      " [ 1.  9. 36.  4. 50.  1.]\n",
      " [ 0.  4. 91.  1.  4.  0.]\n",
      " [ 0.  4. 84.  1. 10.  0.]\n",
      " [ 1.  6. 27.  3. 62.  1.]\n",
      " [ 0.  5. 91.  1.  3.  0.]] 2\n"
     ]
    }
   ],
   "source": [
    "###############     Prueba   ################\n",
    "\n",
    "#Datos de prueba normalizadoscon los dos descriptores seleccionados\n",
    "prueba = df_PN.iloc[:, [2, 3]].values\n",
    "\n",
    "r_fcmeans = fcmean.predict(prueba)          #Clasificación de los datos de prueba en base a los centros obtenidos\n",
    "print(r_fcmeans)                            #Se muestra el resultado de la clasificación\n",
    "\n",
    "fig = plt.figure()\n",
    "ax1 = fig.add_subplot(111)\n",
    "# Visualización de los grupos\n",
    "ax1.scatter(prueba[r_fcmeans == 5, 0], prueba[r_fcmeans == 5, 1], c='purple', marker='o', label = 'Iris-setosa')\n",
    "ax1.scatter(prueba[r_fcmeans == 0, 0], prueba[r_fcmeans == 0, 1], c='gray', marker='+', label = 'Iris-setosa')\n",
    "ax1.scatter(prueba[r_fcmeans == 1, 0], prueba[r_fcmeans == 1, 1], c='orange', marker='x', label = 'Iris-versicolour')\n",
    "ax1.scatter(prueba[r_fcmeans == 3, 0], prueba[r_fcmeans == 3, 1], c='green', marker='*', label = 'Iris-versicolour')\n",
    "ax1.scatter(prueba[r_fcmeans == 4, 0], prueba[r_fcmeans == 4, 1], c='blue', marker='o', label = 'Iris-virginica')\n",
    "ax1.scatter(prueba[r_fcmeans == 2, 0], prueba[r_fcmeans == 2, 1], c='black', marker='x', label = 'Iris-virginica')\n",
    "\n",
    "# Visualización de los centros de cada grupo\n",
    "ax1.scatter(fcmean.centers[:, 0], fcmean.centers[:, 1], s = 100, c = 'red', label = 'Centros')\n",
    "ax1.set_xlabel('X2')\n",
    "ax1.set_ylabel('X3')\n",
    "ax1.set_title(\"Prueba 6 Grupos FCM\")\n",
    "ax1.legend()\n",
    "\n",
    "plt.show()\n",
    "\n",
    "#Interpretación de la clasificación (El algoritmo le asigna en orden diferente)\n",
    "salida = []\n",
    "for i in r_fcmeans:\n",
    "    if i == 5 or i == 0: \n",
    "        salida.append(1)\n",
    "    elif i == 1 or i == 3:\n",
    "        salida.append(2)\n",
    "    else:\n",
    "        salida.append(3)\n",
    "\n",
    "print(salida)\n",
    "\n",
    "print(error(salida, etiquetas_prueba))\n",
    "\n",
    "# Matriz de grados de pertenecia\n",
    "pert_fcmeans = fcmean.soft_predict(prueba)\n",
    "print(np.round(pert_fcmeans * 100), 2)"
   ]
  }
 ],
 "metadata": {
  "interpreter": {
   "hash": "ac59ebe37160ed0dfa835113d9b8498d9f09ceb179beaac4002f036b9467c963"
  },
  "kernelspec": {
   "display_name": "Python 3.9.8 64-bit",
   "language": "python",
   "name": "python3"
  },
  "language_info": {
   "codemirror_mode": {
    "name": "ipython",
    "version": 3
   },
   "file_extension": ".py",
   "mimetype": "text/x-python",
   "name": "python",
   "nbconvert_exporter": "python",
   "pygments_lexer": "ipython3",
   "version": "3.9.7"
  },
  "orig_nbformat": 4
 },
 "nbformat": 4,
 "nbformat_minor": 2
}
